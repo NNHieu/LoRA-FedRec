{
 "cells": [
  {
   "cell_type": "code",
   "execution_count": 1,
   "metadata": {},
   "outputs": [],
   "source": [
    "import settings\n",
    "import os\n",
    "from rec.data import RecDataModule"
   ]
  },
  {
   "cell_type": "code",
   "execution_count": 2,
   "metadata": {},
   "outputs": [
    {
     "data": {
      "text/plain": [
       "'/home/cyanos/Workspace/FedRec/LoRA-FedRec/FedNCF/notebooks'"
      ]
     },
     "execution_count": 2,
     "metadata": {},
     "output_type": "execute_result"
    }
   ],
   "source": [
    "os.getcwd()"
   ]
  },
  {
   "cell_type": "code",
   "execution_count": 3,
   "metadata": {},
   "outputs": [],
   "source": [
    "dm = RecDataModule(root=\"../../dataset/pinterest/\")"
   ]
  },
  {
   "cell_type": "code",
   "execution_count": 4,
   "metadata": {},
   "outputs": [],
   "source": [
    "dm.setup()"
   ]
  },
  {
   "cell_type": "code",
   "execution_count": 5,
   "metadata": {},
   "outputs": [
    {
     "data": {
      "text/plain": [
       "user      55187\n",
       "item       9911\n",
       "rating        1\n",
       "dtype: int64"
      ]
     },
     "execution_count": 5,
     "metadata": {},
     "output_type": "execute_result"
    }
   ],
   "source": [
    "dm.post_train_df.nunique()"
   ]
  },
  {
   "cell_type": "code",
   "execution_count": 31,
   "metadata": {},
   "outputs": [
    {
     "data": {
      "text/plain": [
       "89941"
      ]
     },
     "execution_count": 31,
     "metadata": {},
     "output_type": "execute_result"
    }
   ],
   "source": [
    "len(dm.post_train_df)"
   ]
  },
  {
   "cell_type": "code",
   "execution_count": 26,
   "metadata": {},
   "outputs": [
    {
     "data": {
      "text/plain": [
       "user       1082.0\n",
       "item      38332.0\n",
       "rating        1.0\n",
       "dtype: float64"
      ]
     },
     "execution_count": 26,
     "metadata": {},
     "output_type": "execute_result"
    }
   ],
   "source": [
    "dm.post_train_df.max()"
   ]
  },
  {
   "cell_type": "code",
   "execution_count": 27,
   "metadata": {},
   "outputs": [
    {
     "data": {
      "text/plain": [
       "set()"
      ]
     },
     "execution_count": 27,
     "metadata": {},
     "output_type": "execute_result"
    }
   ],
   "source": [
    "set(range(dm.post_train_df.item.max() + 1)) - set(dm.post_train_df.item.unique())"
   ]
  },
  {
   "cell_type": "code",
   "execution_count": 28,
   "metadata": {},
   "outputs": [
    {
     "data": {
      "text/html": [
       "<div>\n",
       "<style scoped>\n",
       "    .dataframe tbody tr th:only-of-type {\n",
       "        vertical-align: middle;\n",
       "    }\n",
       "\n",
       "    .dataframe tbody tr th {\n",
       "        vertical-align: top;\n",
       "    }\n",
       "\n",
       "    .dataframe thead th {\n",
       "        text-align: right;\n",
       "    }\n",
       "</style>\n",
       "<table border=\"1\" class=\"dataframe\">\n",
       "  <thead>\n",
       "    <tr style=\"text-align: right;\">\n",
       "      <th></th>\n",
       "      <th>user</th>\n",
       "      <th>pos_item</th>\n",
       "      <th>neg_sample</th>\n",
       "    </tr>\n",
       "  </thead>\n",
       "  <tbody>\n",
       "    <tr>\n",
       "      <th>0</th>\n",
       "      <td>0</td>\n",
       "      <td>5411</td>\n",
       "      <td>[7352, 1659, 18108, 16128, 14704, 9206, 6771, ...</td>\n",
       "    </tr>\n",
       "    <tr>\n",
       "      <th>1</th>\n",
       "      <td>1</td>\n",
       "      <td>10774</td>\n",
       "      <td>[38280, 26213, 23760, 14406, 9091, 33430, 3238...</td>\n",
       "    </tr>\n",
       "    <tr>\n",
       "      <th>2</th>\n",
       "      <td>2</td>\n",
       "      <td>20356</td>\n",
       "      <td>[8683, 37474, 37813, 31027, 15965, 31047, 2672...</td>\n",
       "    </tr>\n",
       "    <tr>\n",
       "      <th>3</th>\n",
       "      <td>3</td>\n",
       "      <td>775</td>\n",
       "      <td>[19722, 30033, 20782, 4788, 619, 30103, 36970,...</td>\n",
       "    </tr>\n",
       "    <tr>\n",
       "      <th>4</th>\n",
       "      <td>4</td>\n",
       "      <td>1052</td>\n",
       "      <td>[22956, 20041, 14948, 14642, 1566, 12689, 2615...</td>\n",
       "    </tr>\n",
       "    <tr>\n",
       "      <th>...</th>\n",
       "      <td>...</td>\n",
       "      <td>...</td>\n",
       "      <td>...</td>\n",
       "    </tr>\n",
       "    <tr>\n",
       "      <th>1078</th>\n",
       "      <td>1078</td>\n",
       "      <td>17828</td>\n",
       "      <td>[20434, 4208, 270, 18900, 25524, 35512, 29337,...</td>\n",
       "    </tr>\n",
       "    <tr>\n",
       "      <th>1079</th>\n",
       "      <td>1079</td>\n",
       "      <td>7279</td>\n",
       "      <td>[5205, 18649, 2891, 14623, 33026, 4077, 31097,...</td>\n",
       "    </tr>\n",
       "    <tr>\n",
       "      <th>1080</th>\n",
       "      <td>1080</td>\n",
       "      <td>572</td>\n",
       "      <td>[22681, 17411, 9263, 23069, 15254, 16202, 3277...</td>\n",
       "    </tr>\n",
       "    <tr>\n",
       "      <th>1081</th>\n",
       "      <td>1081</td>\n",
       "      <td>35967</td>\n",
       "      <td>[27683, 18577, 745, 3393, 30644, 37467, 25303,...</td>\n",
       "    </tr>\n",
       "    <tr>\n",
       "      <th>1082</th>\n",
       "      <td>1082</td>\n",
       "      <td>9315</td>\n",
       "      <td>[15807, 18503, 10350, 27412, 30039, 9718, 1753...</td>\n",
       "    </tr>\n",
       "  </tbody>\n",
       "</table>\n",
       "<p>1083 rows × 3 columns</p>\n",
       "</div>"
      ],
      "text/plain": [
       "      user  pos_item                                         neg_sample\n",
       "0        0      5411  [7352, 1659, 18108, 16128, 14704, 9206, 6771, ...\n",
       "1        1     10774  [38280, 26213, 23760, 14406, 9091, 33430, 3238...\n",
       "2        2     20356  [8683, 37474, 37813, 31027, 15965, 31047, 2672...\n",
       "3        3       775  [19722, 30033, 20782, 4788, 619, 30103, 36970,...\n",
       "4        4      1052  [22956, 20041, 14948, 14642, 1566, 12689, 2615...\n",
       "...    ...       ...                                                ...\n",
       "1078  1078     17828  [20434, 4208, 270, 18900, 25524, 35512, 29337,...\n",
       "1079  1079      7279  [5205, 18649, 2891, 14623, 33026, 4077, 31097,...\n",
       "1080  1080       572  [22681, 17411, 9263, 23069, 15254, 16202, 3277...\n",
       "1081  1081     35967  [27683, 18577, 745, 3393, 30644, 37467, 25303,...\n",
       "1082  1082      9315  [15807, 18503, 10350, 27412, 30039, 9718, 1753...\n",
       "\n",
       "[1083 rows x 3 columns]"
      ]
     },
     "execution_count": 28,
     "metadata": {},
     "output_type": "execute_result"
    }
   ],
   "source": [
    "dm.test_df"
   ]
  },
  {
   "cell_type": "code",
   "execution_count": null,
   "metadata": {},
   "outputs": [],
   "source": []
  }
 ],
 "metadata": {
  "kernelspec": {
   "display_name": "fedrec",
   "language": "python",
   "name": "python3"
  },
  "language_info": {
   "codemirror_mode": {
    "name": "ipython",
    "version": 3
   },
   "file_extension": ".py",
   "mimetype": "text/x-python",
   "name": "python",
   "nbconvert_exporter": "python",
   "pygments_lexer": "ipython3",
   "version": "3.8.13"
  },
  "orig_nbformat": 4
 },
 "nbformat": 4,
 "nbformat_minor": 2
}
