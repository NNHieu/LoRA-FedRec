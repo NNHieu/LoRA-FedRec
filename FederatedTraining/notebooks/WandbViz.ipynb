{
 "cells": [
  {
   "cell_type": "code",
   "execution_count": 1,
   "metadata": {},
   "outputs": [],
   "source": [
    "import wandb\n",
    "import matplotlib.pyplot as plt\n",
    "import numpy as np"
   ]
  },
  {
   "cell_type": "code",
   "execution_count": 2,
   "metadata": {},
   "outputs": [],
   "source": [
    "# project = 'hiue/lowrank-fedrec-2'\n",
    "project = 'hiue/lora-fedrec-3'\n",
    "api = wandb.Api()\n",
    "runs = api.runs(project, {\n",
    "    \"$and\": [{\n",
    "        'config.data.name': 'movielens',\n",
    "        'config.task_name': 'fedtrain',\n",
    "        'config.model.init._target_': {\n",
    "            '$in': ['fedlib.standard.models.FedMF',\n",
    "                    'fedlib.lora.models.FedLoraMF']\n",
    "        }\n",
    "        # 'config.dataloader.batch_size': 32,\n",
    "        # 'config.data.name': 'foursq-ny',\n",
    "        # 'config.task_name': 'fedsweep3',\n",
    "        # 'config.dataloader.batch_size': 16,\n",
    "        # 'config.trainer.lr': 5e-3,\n",
    "\n",
    "        # 'config.data.name': 'foursq-ny',\n",
    "        # 'config.dataloader.batch_size': 16,\n",
    "        # 'config.trainer.lr': 7e-3,\n",
    "        # 'tags': {\n",
    "        #     \"$in\": ['selected']\n",
    "        # },\n",
    "        # 'config.data.name': 'pinterest',\n",
    "        # 'config.task_name': 'fedtrain5',    \n",
    "        # 'state': 'finished'\n",
    "        }]\n",
    "})"
   ]
  },
  {
   "cell_type": "code",
   "execution_count": 3,
   "metadata": {},
   "outputs": [
    {
     "name": "stdout",
     "output_type": "stream",
     "text": [
      "Name: fedmf32-svd16-60-1-89, Id: d5s42a2c\n",
      "Name: fedmf32-svd8-60-1-88, Id: g00jk2z7\n",
      "Name: fedmf32-svd2-60-1-87, Id: 7y79ku6s\n",
      "Name: fedmf32-svd4-60-1-85, Id: 0342857u\n",
      "Name: fedmf8-60-1-84, Id: bzqhkfhs\n",
      "Name: fedmf32_lora16_freezeB-60-1-83, Id: c1rnhei9\n",
      "Name: fedmf32_lora8_freezeB-60-1-82, Id: 10suowdj\n",
      "Name: fedmf32_lora4_freezeB-60-1-77, Id: fs1z1bdk\n",
      "Name: fedmf32_lora2_freezeB-60-1-69, Id: q1rfphq5\n",
      "Name: fedmf2-60-1-52, Id: flhr11vv\n",
      "Name: fedmf4-60-1-46, Id: oyhth7lv\n",
      "Name: fedmf16-60-1-45, Id: anz3hrve\n",
      "Name: fedmf32-60-1-44, Id: q66e1sf7\n"
     ]
    }
   ],
   "source": [
    "lora_runs = []\n",
    "svd_runs = []\n",
    "normal_runs = []\n",
    "\n",
    "update_numels = []\n",
    "all_HR = []\n",
    "all_NDCG = []\n",
    "all_loss = []\n",
    "\n",
    "histories = {}\n",
    "\n",
    "for run in runs:\n",
    "    print(\"Name: {}, Id: {}\".format(run.name, run.id))\n",
    "    if 'lora' in run.name:\n",
    "        if run.config['model']['init']['lora_rank'] == run.config['model']['init']['lora_alpha']:\n",
    "            lora_runs.append(run)\n",
    "        else:\n",
    "            continue\n",
    "    elif 'svd' in run.name:\n",
    "        svd_runs.append(run)\n",
    "    else:\n",
    "        normal_runs.append(run)\n",
    "    update_numels.append(run.summary['update_numel'])\n",
    "    # histories[run.name] = run.history(samples=20)\n",
    "    histories[run.name] = run.scan_history(keys=['train_loss', 'HR', 'NDCG', 'epoch'])\n",
    "    # all_HR.append(run.history()['HR'].max())\n",
    "    # all_NDCG.append(run.history()['NDCG'].max())\n",
    "    # all_loss.append(run.history()['train_loss'].min())"
   ]
  },
  {
   "cell_type": "code",
   "execution_count": 4,
   "metadata": {},
   "outputs": [
    {
     "data": {
      "text/plain": [
       "['fedmf32_lora16_freezeB-60-1-83',\n",
       " 'fedmf32_lora8_freezeB-60-1-82',\n",
       " 'fedmf32_lora4_freezeB-60-1-77',\n",
       " 'fedmf32_lora2_freezeB-60-1-69']"
      ]
     },
     "execution_count": 4,
     "metadata": {},
     "output_type": "execute_result"
    }
   ],
   "source": [
    "normal_runs_names = [run.name for run in lora_runs]\n",
    "normal_runs_names"
   ]
  },
  {
   "cell_type": "code",
   "execution_count": 5,
   "metadata": {},
   "outputs": [],
   "source": [
    "df = lora_runs[0].history()"
   ]
  },
  {
   "cell_type": "code",
   "execution_count": 6,
   "metadata": {},
   "outputs": [
    {
     "data": {
      "text/plain": [
       "194.32953202783764"
      ]
     },
     "execution_count": 6,
     "metadata": {},
     "output_type": "execute_result"
    }
   ],
   "source": [
    "df['fit'].mean() + df['set_parameters'].mean() + df['get_parameters'].mean() + df['compress'].mean()"
   ]
  },
  {
   "cell_type": "code",
   "execution_count": 35,
   "metadata": {},
   "outputs": [
    {
     "name": "stdout",
     "output_type": "stream",
     "text": [
      "compress\n"
     ]
    },
    {
     "ename": "TypeError",
     "evalue": "string indices must be integers",
     "output_type": "error",
     "traceback": [
      "\u001b[0;31m---------------------------------------------------------------------------\u001b[0m",
      "\u001b[0;31mTypeError\u001b[0m                                 Traceback (most recent call last)",
      "Cell \u001b[0;32mIn[35], line 8\u001b[0m\n\u001b[1;32m      6\u001b[0m \u001b[39mfor\u001b[39;00m row \u001b[39min\u001b[39;00m df:\n\u001b[1;32m      7\u001b[0m     \u001b[39mprint\u001b[39m(row)\n\u001b[0;32m----> 8\u001b[0m     fit_times\u001b[39m.\u001b[39mappend(row[\u001b[39m'\u001b[39;49m\u001b[39mfit\u001b[39;49m\u001b[39m'\u001b[39;49m])\n\u001b[1;32m      9\u001b[0m     set_parameters_times\u001b[39m.\u001b[39mappend(row[\u001b[39m'\u001b[39m\u001b[39mset_parameters\u001b[39m\u001b[39m'\u001b[39m])\n\u001b[1;32m     10\u001b[0m     get_parameters_times\u001b[39m.\u001b[39mappend(row[\u001b[39m'\u001b[39m\u001b[39mget_parameters\u001b[39m\u001b[39m'\u001b[39m])\n",
      "\u001b[0;31mTypeError\u001b[0m: string indices must be integers"
     ]
    }
   ],
   "source": [
    "fit_times = []\n",
    "set_parameters_times = []\n",
    "get_parameters_times = []\n",
    "compression_times = []\n",
    "\n",
    "for row in df:\n",
    "    print(row)\n",
    "    fit_times.append(row['fit'])\n",
    "    set_parameters_times.append(row['set_parameters'])\n",
    "    get_parameters_times.append(row['get_parameters'])\n",
    "    compression_times.append(row['compression'])"
   ]
  },
  {
   "cell_type": "code",
   "execution_count": 33,
   "metadata": {},
   "outputs": [
    {
     "data": {
      "text/html": [
       "<div>\n",
       "<style scoped>\n",
       "    .dataframe tbody tr th:only-of-type {\n",
       "        vertical-align: middle;\n",
       "    }\n",
       "\n",
       "    .dataframe tbody tr th {\n",
       "        vertical-align: top;\n",
       "    }\n",
       "\n",
       "    .dataframe thead th {\n",
       "        text-align: right;\n",
       "    }\n",
       "</style>\n",
       "<table border=\"1\" class=\"dataframe\">\n",
       "  <thead>\n",
       "    <tr style=\"text-align: right;\">\n",
       "      <th></th>\n",
       "      <th>compress</th>\n",
       "      <th>evaluate</th>\n",
       "      <th>epoch</th>\n",
       "      <th>update_numel</th>\n",
       "      <th>set_parameters</th>\n",
       "      <th>_runtime</th>\n",
       "      <th>get_parameters</th>\n",
       "      <th>client_loss</th>\n",
       "      <th>_step</th>\n",
       "      <th>_timestamp</th>\n",
       "      <th>HR</th>\n",
       "      <th>data_size</th>\n",
       "      <th>fit</th>\n",
       "      <th>train_loss</th>\n",
       "      <th>NDCG</th>\n",
       "    </tr>\n",
       "  </thead>\n",
       "  <tbody>\n",
       "    <tr>\n",
       "      <th>0</th>\n",
       "      <td>0.030855</td>\n",
       "      <td>0.0</td>\n",
       "      <td>6</td>\n",
       "      <td>634624</td>\n",
       "      <td>0.035420</td>\n",
       "      <td>79.797188</td>\n",
       "      <td>0.068126</td>\n",
       "      <td>77.964962</td>\n",
       "      <td>6</td>\n",
       "      <td>1.695456e+09</td>\n",
       "      <td>NaN</td>\n",
       "      <td>70722</td>\n",
       "      <td>1.578128</td>\n",
       "      <td>NaN</td>\n",
       "      <td>NaN</td>\n",
       "    </tr>\n",
       "    <tr>\n",
       "      <th>1</th>\n",
       "      <td>0.031253</td>\n",
       "      <td>0.0</td>\n",
       "      <td>20</td>\n",
       "      <td>634624</td>\n",
       "      <td>0.035657</td>\n",
       "      <td>128.873083</td>\n",
       "      <td>0.067801</td>\n",
       "      <td>76.847799</td>\n",
       "      <td>20</td>\n",
       "      <td>1.695456e+09</td>\n",
       "      <td>NaN</td>\n",
       "      <td>70126</td>\n",
       "      <td>1.562754</td>\n",
       "      <td>NaN</td>\n",
       "      <td>NaN</td>\n",
       "    </tr>\n",
       "    <tr>\n",
       "      <th>2</th>\n",
       "      <td>0.030834</td>\n",
       "      <td>0.0</td>\n",
       "      <td>22</td>\n",
       "      <td>634624</td>\n",
       "      <td>0.035573</td>\n",
       "      <td>135.884577</td>\n",
       "      <td>0.067805</td>\n",
       "      <td>77.498650</td>\n",
       "      <td>22</td>\n",
       "      <td>1.695456e+09</td>\n",
       "      <td>NaN</td>\n",
       "      <td>70869</td>\n",
       "      <td>1.583466</td>\n",
       "      <td>NaN</td>\n",
       "      <td>NaN</td>\n",
       "    </tr>\n",
       "    <tr>\n",
       "      <th>3</th>\n",
       "      <td>0.030925</td>\n",
       "      <td>0.0</td>\n",
       "      <td>24</td>\n",
       "      <td>634624</td>\n",
       "      <td>0.035475</td>\n",
       "      <td>142.944028</td>\n",
       "      <td>0.068120</td>\n",
       "      <td>78.414828</td>\n",
       "      <td>24</td>\n",
       "      <td>1.695456e+09</td>\n",
       "      <td>NaN</td>\n",
       "      <td>71424</td>\n",
       "      <td>1.583641</td>\n",
       "      <td>NaN</td>\n",
       "      <td>NaN</td>\n",
       "    </tr>\n",
       "    <tr>\n",
       "      <th>4</th>\n",
       "      <td>0.031147</td>\n",
       "      <td>0.0</td>\n",
       "      <td>26</td>\n",
       "      <td>634624</td>\n",
       "      <td>0.035849</td>\n",
       "      <td>149.932508</td>\n",
       "      <td>0.068635</td>\n",
       "      <td>76.859431</td>\n",
       "      <td>26</td>\n",
       "      <td>1.695456e+09</td>\n",
       "      <td>NaN</td>\n",
       "      <td>70105</td>\n",
       "      <td>1.579596</td>\n",
       "      <td>NaN</td>\n",
       "      <td>NaN</td>\n",
       "    </tr>\n",
       "    <tr>\n",
       "      <th>...</th>\n",
       "      <td>...</td>\n",
       "      <td>...</td>\n",
       "      <td>...</td>\n",
       "      <td>...</td>\n",
       "      <td>...</td>\n",
       "      <td>...</td>\n",
       "      <td>...</td>\n",
       "      <td>...</td>\n",
       "      <td>...</td>\n",
       "      <td>...</td>\n",
       "      <td>...</td>\n",
       "      <td>...</td>\n",
       "      <td>...</td>\n",
       "      <td>...</td>\n",
       "      <td>...</td>\n",
       "    </tr>\n",
       "    <tr>\n",
       "      <th>495</th>\n",
       "      <td>0.032984</td>\n",
       "      <td>0.0</td>\n",
       "      <td>4881</td>\n",
       "      <td>634624</td>\n",
       "      <td>0.035817</td>\n",
       "      <td>20697.529811</td>\n",
       "      <td>0.071616</td>\n",
       "      <td>5.022539</td>\n",
       "      <td>4881</td>\n",
       "      <td>1.695476e+09</td>\n",
       "      <td>NaN</td>\n",
       "      <td>70678</td>\n",
       "      <td>1.896649</td>\n",
       "      <td>NaN</td>\n",
       "      <td>NaN</td>\n",
       "    </tr>\n",
       "    <tr>\n",
       "      <th>496</th>\n",
       "      <td>0.032616</td>\n",
       "      <td>0.0</td>\n",
       "      <td>4885</td>\n",
       "      <td>634624</td>\n",
       "      <td>0.035758</td>\n",
       "      <td>20711.806884</td>\n",
       "      <td>0.071056</td>\n",
       "      <td>5.213505</td>\n",
       "      <td>4885</td>\n",
       "      <td>1.695476e+09</td>\n",
       "      <td>NaN</td>\n",
       "      <td>71162</td>\n",
       "      <td>1.883520</td>\n",
       "      <td>NaN</td>\n",
       "      <td>NaN</td>\n",
       "    </tr>\n",
       "    <tr>\n",
       "      <th>497</th>\n",
       "      <td>0.033341</td>\n",
       "      <td>0.0</td>\n",
       "      <td>4935</td>\n",
       "      <td>634624</td>\n",
       "      <td>0.037023</td>\n",
       "      <td>20952.928998</td>\n",
       "      <td>0.073038</td>\n",
       "      <td>5.023311</td>\n",
       "      <td>4935</td>\n",
       "      <td>1.695477e+09</td>\n",
       "      <td>NaN</td>\n",
       "      <td>70773</td>\n",
       "      <td>1.930117</td>\n",
       "      <td>NaN</td>\n",
       "      <td>NaN</td>\n",
       "    </tr>\n",
       "    <tr>\n",
       "      <th>498</th>\n",
       "      <td>0.033555</td>\n",
       "      <td>0.0</td>\n",
       "      <td>4940</td>\n",
       "      <td>634624</td>\n",
       "      <td>0.036746</td>\n",
       "      <td>20970.956166</td>\n",
       "      <td>0.073278</td>\n",
       "      <td>5.058163</td>\n",
       "      <td>4940</td>\n",
       "      <td>1.695477e+09</td>\n",
       "      <td>NaN</td>\n",
       "      <td>70437</td>\n",
       "      <td>1.928477</td>\n",
       "      <td>NaN</td>\n",
       "      <td>NaN</td>\n",
       "    </tr>\n",
       "    <tr>\n",
       "      <th>499</th>\n",
       "      <td>0.033164</td>\n",
       "      <td>0.0</td>\n",
       "      <td>4994</td>\n",
       "      <td>634624</td>\n",
       "      <td>0.036202</td>\n",
       "      <td>21164.641410</td>\n",
       "      <td>0.072265</td>\n",
       "      <td>5.005165</td>\n",
       "      <td>4994</td>\n",
       "      <td>1.695477e+09</td>\n",
       "      <td>NaN</td>\n",
       "      <td>68915</td>\n",
       "      <td>1.887374</td>\n",
       "      <td>NaN</td>\n",
       "      <td>NaN</td>\n",
       "    </tr>\n",
       "  </tbody>\n",
       "</table>\n",
       "<p>500 rows × 15 columns</p>\n",
       "</div>"
      ],
      "text/plain": [
       "     compress  evaluate  epoch  update_numel  set_parameters      _runtime  \\\n",
       "0    0.030855       0.0      6        634624        0.035420     79.797188   \n",
       "1    0.031253       0.0     20        634624        0.035657    128.873083   \n",
       "2    0.030834       0.0     22        634624        0.035573    135.884577   \n",
       "3    0.030925       0.0     24        634624        0.035475    142.944028   \n",
       "4    0.031147       0.0     26        634624        0.035849    149.932508   \n",
       "..        ...       ...    ...           ...             ...           ...   \n",
       "495  0.032984       0.0   4881        634624        0.035817  20697.529811   \n",
       "496  0.032616       0.0   4885        634624        0.035758  20711.806884   \n",
       "497  0.033341       0.0   4935        634624        0.037023  20952.928998   \n",
       "498  0.033555       0.0   4940        634624        0.036746  20970.956166   \n",
       "499  0.033164       0.0   4994        634624        0.036202  21164.641410   \n",
       "\n",
       "     get_parameters  client_loss  _step    _timestamp  HR  data_size  \\\n",
       "0          0.068126    77.964962      6  1.695456e+09 NaN      70722   \n",
       "1          0.067801    76.847799     20  1.695456e+09 NaN      70126   \n",
       "2          0.067805    77.498650     22  1.695456e+09 NaN      70869   \n",
       "3          0.068120    78.414828     24  1.695456e+09 NaN      71424   \n",
       "4          0.068635    76.859431     26  1.695456e+09 NaN      70105   \n",
       "..              ...          ...    ...           ...  ..        ...   \n",
       "495        0.071616     5.022539   4881  1.695476e+09 NaN      70678   \n",
       "496        0.071056     5.213505   4885  1.695476e+09 NaN      71162   \n",
       "497        0.073038     5.023311   4935  1.695477e+09 NaN      70773   \n",
       "498        0.073278     5.058163   4940  1.695477e+09 NaN      70437   \n",
       "499        0.072265     5.005165   4994  1.695477e+09 NaN      68915   \n",
       "\n",
       "          fit  train_loss  NDCG  \n",
       "0    1.578128         NaN   NaN  \n",
       "1    1.562754         NaN   NaN  \n",
       "2    1.583466         NaN   NaN  \n",
       "3    1.583641         NaN   NaN  \n",
       "4    1.579596         NaN   NaN  \n",
       "..        ...         ...   ...  \n",
       "495  1.896649         NaN   NaN  \n",
       "496  1.883520         NaN   NaN  \n",
       "497  1.930117         NaN   NaN  \n",
       "498  1.928477         NaN   NaN  \n",
       "499  1.887374         NaN   NaN  \n",
       "\n",
       "[500 rows x 15 columns]"
      ]
     },
     "execution_count": 33,
     "metadata": {},
     "output_type": "execute_result"
    }
   ],
   "source": []
  },
  {
   "cell_type": "code",
   "execution_count": 7,
   "metadata": {},
   "outputs": [],
   "source": [
    "cached_hist = {}\n",
    "for k, v in histories.items():\n",
    "    cached_hist[k] = {}\n",
    "    cached_hist[k]['HR'] = [row['HR'] for row in v]\n",
    "    cached_hist[k]['NDCG'] = [row['NDCG'] for row in v]\n",
    "    cached_hist[k]['train_loss'] = [row['train_loss'] for row in v]\n",
    "    cached_hist[k]['epoch'] = [row['epoch'] for row in v]"
   ]
  },
  {
   "cell_type": "code",
   "execution_count": 8,
   "metadata": {},
   "outputs": [],
   "source": [
    "def scatter_plot(ax, runs, metric, label=None, marker='o', linestyle='dashed', color=None, rescale_x=None, min_value=False, text_offset=0.02):\n",
    "    x = []\n",
    "    y = []\n",
    "    for run in runs:\n",
    "        x_val = run.summary['update_numel']\n",
    "        if rescale_x is not None:\n",
    "            x_val = x_val / rescale_x\n",
    "        x.append(x_val)\n",
    "\n",
    "        y_val = run.summary[metric]\n",
    "        # y_val = cached_hist[run.name][metric][np.argmin(cached_hist[run.name]['train_loss'])]\n",
    "        # y_val = min(cached_hist[run.name][metric]) if min_value else max(cached_hist[run.name][metric])\n",
    "        y.append(y_val)\n",
    "        # if 'lora' in run.name:\n",
    "        #     lora_rank = run.config['model']['init']['lora_rank']\n",
    "        #     # ax.text(x_val, y_val+text_offset, f\"r={lora_rank}\", fontsize=8)\n",
    "        #     ax.annotate(f\"r={lora_rank}\", (x_val, y_val), xytext=(x_val, y_val+text_offset), fontsize=8)\n",
    "        # else:\n",
    "        #     emb_size = run.config['model']['init']['gmf_emb_size']\n",
    "        #     ax.text(x_val, y_val-text_offset, f\"d={emb_size}\", fontsize=8)\n",
    "\n",
    "    ids = np.argsort(x)\n",
    "    x = np.array(x)[ids]\n",
    "    y = np.array(y)[ids]\n",
    "    ax.plot(x, y, label=label, marker=marker, linestyle=linestyle, color=color)"
   ]
  },
  {
   "cell_type": "code",
   "execution_count": 9,
   "metadata": {},
   "outputs": [
    {
     "data": {
      "text/plain": [
       "Text(0, 0.5, 'Train loss')"
      ]
     },
     "execution_count": 9,
     "metadata": {},
     "output_type": "execute_result"
    },
    {
     "data": {
      "image/png": "[encoded data removed]",
      "text/plain": [
       "<Figure size 1152x288 with 3 Axes>"
      ]
     },
     "metadata": {
      "needs_background": "light"
     },
     "output_type": "display_data"
    }
   ],
   "source": [
    "fig, axes = plt.subplots(1, 3, figsize=(16, 4))\n",
    "scatter_plot(axes[0], lora_runs, 'test/HR', label='LoRA', marker='o', linestyle='dashed', color='red', rescale_x=max(update_numels), text_offset=0.02)\n",
    "scatter_plot(axes[0], svd_runs, 'test/HR', label='SVD', marker='x', linestyle='dashed', color='blue', rescale_x=max(update_numels), text_offset=0.02)\n",
    "scatter_plot(axes[0], normal_runs, 'test/HR', label='Standard', marker='^', linestyle='dashed', color='green', rescale_x=max(update_numels), text_offset=0.02)\n",
    "axes[0].set_xlabel('Transfer Size')\n",
    "axes[0].set_ylabel('HR')\n",
    "axes[0].legend()\n",
    "# axes[0].set_ylim([0.1, 0.5])\n",
    "# axes[0].axhline(y=max(all_HR), color='black', linestyle='-.')\n",
    "\n",
    "scatter_plot(axes[1], lora_runs, 'test/NDCG', label='LoRA', marker='o', linestyle='dashed', color='red', rescale_x=max(update_numels), text_offset=0.01)\n",
    "scatter_plot(axes[1], svd_runs, 'test/NDCG', label='SVD', marker='x', linestyle='dashed', color='blue', rescale_x=max(update_numels), text_offset=0.01)\n",
    "scatter_plot(axes[1], normal_runs, 'test/NDCG', label='Standard', marker='^', linestyle='dashed', color='green', rescale_x=max(update_numels), text_offset=0.01)\n",
    "axes[1].set_xlabel('Transfer Size')\n",
    "axes[1].set_ylabel('NDCG')\n",
    "# axes[1].set_ylim([0.15, 0.3])\n",
    "# axes[1].axhline(y=max(all_NDCG), color='black', linestyle='-.')\n",
    "\n",
    "\n",
    "scatter_plot(axes[2], lora_runs, 'train/loss', label='LoRA', marker='o', linestyle='dashed', color='red', rescale_x=max(update_numels), min_value=True, text_offset=0.01)\n",
    "scatter_plot(axes[2], svd_runs, 'train/loss', label='SVD', marker='x', linestyle='dashed', color='blue', rescale_x=max(update_numels), min_value=True, text_offset=0.01)\n",
    "scatter_plot(axes[2], normal_runs, 'train/loss', label='Standard', marker='^', linestyle='dashed', color='green', rescale_x=max(update_numels), min_value=True, text_offset=0.01)\n",
    "axes[2].set_xlabel('Transfer Size')\n",
    "axes[2].set_ylabel('Train loss')\n",
    "# axes[2].set_ylim([0.4, 0.6])"
   ]
  },
  {
   "cell_type": "code",
   "execution_count": 7,
   "metadata": {},
   "outputs": [],
   "source": [
    "fig.savefig('figures/pinterest_fedmf.pdf', bbox_inches='tight')"
   ]
  },
  {
   "cell_type": "code",
   "execution_count": 9,
   "metadata": {},
   "outputs": [],
   "source": [
    "def plot_hist(run_name, axes, label, **style_kwargs):\n",
    "    HR = cached_hist[run_name]['HR']\n",
    "    NDCG = cached_hist[run_name]['NDCG']\n",
    "    train_loss = cached_hist[run_name]['train_loss']\n",
    "    epoch = cached_hist[run_name]['epoch']\n",
    "\n",
    "    axes[0].plot(epoch, HR, label=label, **style_kwargs)\n",
    "    axes[0].set_xlabel('Communication Rounds')\n",
    "    axes[0].set_ylabel('Metric')\n",
    "    \n",
    "\n",
    "    axes[1].plot(epoch, NDCG, label=label, **style_kwargs)\n",
    "    axes[1].set_xlabel('Communication Rounds')\n",
    "    axes[1].set_ylabel('NDCG')\n",
    "\n",
    "    axes[2].plot(epoch, train_loss, label=label, **style_kwargs)\n",
    "    axes[2].set_xlabel('Communication Rounds')\n",
    "    axes[2].set_ylabel('Train loss')\n"
   ]
  },
  {
   "cell_type": "code",
   "execution_count": 10,
   "metadata": {},
   "outputs": [],
   "source": [
    "color_set = ['red', 'blue', 'green', 'orange', 'purple', 'brown', 'pink', 'gray', 'olive', 'cyan']\n",
    "marker_set = ['o', 'x', '^', 'v', 's', 'p', '*', 'h', 'D', 'P']"
   ]
  },
  {
   "cell_type": "code",
   "execution_count": 11,
   "metadata": {},
   "outputs": [
    {
     "ename": "KeyError",
     "evalue": "'fedmf64-550-2-229'",
     "output_type": "error",
     "traceback": [
      "\u001b[0;31m---------------------------------------------------------------------------\u001b[0m",
      "\u001b[0;31mKeyError\u001b[0m                                  Traceback (most recent call last)",
      "Cell \u001b[0;32mIn[11], line 3\u001b[0m\n\u001b[1;32m      1\u001b[0m fig, axes \u001b[39m=\u001b[39m plt\u001b[39m.\u001b[39msubplots(\u001b[39m1\u001b[39m, \u001b[39m3\u001b[39m, figsize\u001b[39m=\u001b[39m(\u001b[39m16\u001b[39m, \u001b[39m4\u001b[39m))\n\u001b[1;32m      2\u001b[0m style_1 \u001b[39m=\u001b[39m {\u001b[39m'\u001b[39m\u001b[39mmarker\u001b[39m\u001b[39m'\u001b[39m:marker_set[\u001b[39m0\u001b[39m], \u001b[39m'\u001b[39m\u001b[39mlinestyle\u001b[39m\u001b[39m'\u001b[39m:\u001b[39m'\u001b[39m\u001b[39m-\u001b[39m\u001b[39m'\u001b[39m, \u001b[39m'\u001b[39m\u001b[39mcolor\u001b[39m\u001b[39m'\u001b[39m:color_set[\u001b[39m0\u001b[39m]}\n\u001b[0;32m----> 3\u001b[0m plot_hist(\u001b[39m'\u001b[39;49m\u001b[39mfedmf64-550-2-229\u001b[39;49m\u001b[39m'\u001b[39;49m, axes, label\u001b[39m=\u001b[39;49m\u001b[39m\"\u001b[39;49m\u001b[39mBase\u001b[39;49m\u001b[39m\"\u001b[39;49m, \u001b[39m*\u001b[39;49m\u001b[39m*\u001b[39;49mstyle_1)\n\u001b[1;32m      5\u001b[0m style_2 \u001b[39m=\u001b[39m {\u001b[39m'\u001b[39m\u001b[39mmarker\u001b[39m\u001b[39m'\u001b[39m:marker_set[\u001b[39m1\u001b[39m], \u001b[39m'\u001b[39m\u001b[39mlinestyle\u001b[39m\u001b[39m'\u001b[39m:\u001b[39m'\u001b[39m\u001b[39m--\u001b[39m\u001b[39m'\u001b[39m, \u001b[39m'\u001b[39m\u001b[39mcolor\u001b[39m\u001b[39m'\u001b[39m:color_set[\u001b[39m1\u001b[39m]}\n\u001b[1;32m      6\u001b[0m plot_hist(\u001b[39m'\u001b[39m\u001b[39mfedmf64_lora16_freezeB-550-2-227\u001b[39m\u001b[39m'\u001b[39m, axes, label\u001b[39m=\u001b[39m\u001b[39m\"\u001b[39m\u001b[39mLora-16\u001b[39m\u001b[39m\"\u001b[39m, \u001b[39m*\u001b[39m\u001b[39m*\u001b[39mstyle_2)\n",
      "Cell \u001b[0;32mIn[9], line 2\u001b[0m, in \u001b[0;36mplot_hist\u001b[0;34m(run_name, axes, label, **style_kwargs)\u001b[0m\n\u001b[1;32m      1\u001b[0m \u001b[39mdef\u001b[39;00m \u001b[39mplot_hist\u001b[39m(run_name, axes, label, \u001b[39m*\u001b[39m\u001b[39m*\u001b[39mstyle_kwargs):\n\u001b[0;32m----> 2\u001b[0m     HR \u001b[39m=\u001b[39m cached_hist[run_name][\u001b[39m'\u001b[39m\u001b[39mHR\u001b[39m\u001b[39m'\u001b[39m]\n\u001b[1;32m      3\u001b[0m     NDCG \u001b[39m=\u001b[39m cached_hist[run_name][\u001b[39m'\u001b[39m\u001b[39mNDCG\u001b[39m\u001b[39m'\u001b[39m]\n\u001b[1;32m      4\u001b[0m     train_loss \u001b[39m=\u001b[39m cached_hist[run_name][\u001b[39m'\u001b[39m\u001b[39mtrain_loss\u001b[39m\u001b[39m'\u001b[39m]\n",
      "\u001b[0;31mKeyError\u001b[0m: 'fedmf64-550-2-229'"
     ]
    },
    {
     "data": {
      "image/png": "[encoded data removed]",
      "text/plain": [
       "<Figure size 1152x288 with 3 Axes>"
      ]
     },
     "metadata": {
      "needs_background": "light"
     },
     "output_type": "display_data"
    }
   ],
   "source": [
    "fig, axes = plt.subplots(1, 3, figsize=(16, 4))\n",
    "style_1 = {'marker':marker_set[0], 'linestyle':'-', 'color':color_set[0]}\n",
    "plot_hist('fedmf64-550-2-229', axes, label=\"Base\", **style_1)\n",
    "\n",
    "style_2 = {'marker':marker_set[1], 'linestyle':'--', 'color':color_set[1]}\n",
    "plot_hist('fedmf64_lora16_freezeB-550-2-227', axes, label=\"Lora-16\", **style_2)\n",
    "\n",
    "style_3 = {'marker':marker_set[2], 'linestyle':'--', 'color':color_set[2]}\n",
    "plot_hist('fedmf64_lora8_freezeB-550-2-226', axes, label=\"Lora-8\", **style_3)\n",
    "\n",
    "style_4 = {'marker':marker_set[3], 'linestyle':'--', 'color':color_set[3]}\n",
    "plot_hist('fedmf64_lora4_freezeB-550-2-225', axes, label=\"Lora-4\", **style_4)\n",
    "\n",
    "axes[0].legend()"
   ]
  },
  {
   "cell_type": "code",
   "execution_count": null,
   "metadata": {},
   "outputs": [],
   "source": []
  }
 ],
 "metadata": {
  "kernelspec": {
   "display_name": "rec",
   "language": "python",
   "name": "python3"
  },
  "language_info": {
   "codemirror_mode": {
    "name": "ipython",
    "version": 3
   },
   "file_extension": ".py",
   "mimetype": "text/x-python",
   "name": "python",
   "nbconvert_exporter": "python",
   "pygments_lexer": "ipython3",
   "version": "3.8.13"
  },
  "orig_nbformat": 4
 },
 "nbformat": 4,
 "nbformat_minor": 2
}
