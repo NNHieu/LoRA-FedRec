{
 "cells": [
  {
   "cell_type": "code",
   "execution_count": 1,
   "metadata": {},
   "outputs": [],
   "source": [
    "import wandb\n",
    "import matplotlib.pyplot as plt\n",
    "import numpy as np"
   ]
  },
  {
   "cell_type": "code",
   "execution_count": 2,
   "metadata": {},
   "outputs": [],
   "source": [
    "api = wandb.Api()\n",
    "runs = api.runs('hiue/lowrank-fedrec-2', {\n",
    "    \"$and\": [{\n",
    "        # 'config.data.name': 'movielens',\n",
    "        # 'config.dataloader.batch_size': 32,\n",
    "        # 'config.data.name': 'foursq-ny',\n",
    "        # 'config.task_name': 'fedsweep3',\n",
    "        # 'config.dataloader.batch_size': 16,\n",
    "        # 'config.trainer.lr': 5e-3,\n",
    "\n",
    "        # 'config.data.name': 'foursq-ny',\n",
    "        # 'config.dataloader.batch_size': 16,\n",
    "        # 'config.trainer.lr': 7e-3,\n",
    "        'tags': {\n",
    "            \"$in\": ['selected']\n",
    "        },\n",
    "        'config.data.name': 'pinterest',\n",
    "        'config.task_name': 'fedtrain5',    \n",
    "        # 'state': 'finished'\n",
    "        }]\n",
    "})"
   ]
  },
  {
   "cell_type": "code",
   "execution_count": 3,
   "metadata": {},
   "outputs": [
    {
     "name": "stdout",
     "output_type": "stream",
     "text": [
      "Name: fedmf64-svd16-550-2-260, Id: 1z845shx\n",
      "Name: fedmf64-svd8-550-2-258, Id: 2wzpf2gc\n",
      "Name: fedmf64-svd4-550-2-257, Id: 2em7rm48\n",
      "Name: fedmf64_lora16_freezeB-550-2-252, Id: 38s7yeav\n",
      "Name: fedmf32-550-2-248, Id: kiwsto0i\n",
      "Name: fedmf64_lora8_freezeB-550-2-247, Id: 1662yvjr\n",
      "Name: fedmf64_lora4_freezeB-550-2-246, Id: 2y2qbr7x\n",
      "Name: fedmf64-550-2-244, Id: zft46z4g\n",
      "Name: fedmf16-550-2-238, Id: obxd5cqo\n",
      "Name: fedmf8-550-2-237, Id: roxerdxt\n",
      "Name: fedmf4-550-2-236, Id: 9iz39t2j\n"
     ]
    }
   ],
   "source": [
    "lora_runs = []\n",
    "svd_runs = []\n",
    "normal_runs = []\n",
    "\n",
    "update_numels = []\n",
    "all_HR = []\n",
    "all_NDCG = []\n",
    "all_loss = []\n",
    "\n",
    "histories = {}\n",
    "\n",
    "for run in runs:\n",
    "    print(\"Name: {}, Id: {}\".format(run.name, run.id))\n",
    "    if 'lora' in run.name:\n",
    "        if run.config['model']['init']['lora_rank'] == run.config['model']['init']['lora_alpha']:\n",
    "            lora_runs.append(run)\n",
    "        else:\n",
    "            continue\n",
    "    elif 'svd' in run.name:\n",
    "        svd_runs.append(run)\n",
    "    else:\n",
    "        normal_runs.append(run)\n",
    "    update_numels.append(run.summary['update_numel'])\n",
    "    # histories[run.name] = run.history(samples=20)\n",
    "    histories[run.name] = run.scan_history(keys=['train_loss', 'HR', 'NDCG', 'epoch'])\n",
    "    # all_HR.append(run.history()['HR'].max())\n",
    "    # all_NDCG.append(run.history()['NDCG'].max())\n",
    "    # all_loss.append(run.history()['train_loss'].min())"
   ]
  },
  {
   "cell_type": "code",
   "execution_count": 15,
   "metadata": {},
   "outputs": [],
   "source": [
    "cached_hist = {}\n",
    "for k, v in histories.items():\n",
    "    cached_hist[k] = {}\n",
    "    cached_hist[k]['HR'] = [row['HR'] for row in v]\n",
    "    cached_hist[k]['NDCG'] = [row['NDCG'] for row in v]\n",
    "    cached_hist[k]['train_loss'] = [row['train_loss'] for row in v]\n",
    "    cached_hist[k]['epoch'] = [row['epoch'] for row in v]"
   ]
  },
  {
   "cell_type": "code",
   "execution_count": 22,
   "metadata": {},
   "outputs": [],
   "source": [
    "def scatter_plot(ax, runs, metric, label=None, marker='o', linestyle='dashed', color=None, rescale_x=None, min_value=False, text_offset=0.02):\n",
    "    x = []\n",
    "    y = []\n",
    "    for run in runs:\n",
    "        x_val = run.summary['update_numel']\n",
    "        if rescale_x is not None:\n",
    "            x_val = x_val / rescale_x\n",
    "        x.append(x_val)\n",
    "\n",
    "        # y_val = run.summary[metric]\n",
    "        # y_val = cached_hist[run.name][metric][np.argmin(cached_hist[run.name]['train_loss'])]\n",
    "        print(cached_hist[run.name][metric])\n",
    "        y_val = min(cached_hist[run.name][metric]) if min_value else cached_hist[run.name][metric].max()\n",
    "        y.append(y_val)\n",
    "        # if 'lora' in run.name:\n",
    "        #     lora_rank = run.config['model']['init']['lora_rank']\n",
    "        #     # ax.text(x_val, y_val+text_offset, f\"r={lora_rank}\", fontsize=8)\n",
    "        #     ax.annotate(f\"r={lora_rank}\", (x_val, y_val), xytext=(x_val, y_val+text_offset), fontsize=8)\n",
    "        # else:\n",
    "        #     emb_size = run.config['model']['init']['gmf_emb_size']\n",
    "        #     ax.text(x_val, y_val-text_offset, f\"d={emb_size}\", fontsize=8)\n",
    "\n",
    "    ids = np.argsort(x)\n",
    "    x = np.array(x)[ids]\n",
    "    y = np.array(y)[ids]\n",
    "    ax.plot(x, y, label=label, marker=marker, linestyle=linestyle, color=color)"
   ]
  },
  {
   "cell_type": "code",
   "execution_count": 23,
   "metadata": {},
   "outputs": [
    {
     "name": "stdout",
     "output_type": "stream",
     "text": [
      "[0.10160002112388611, 0.16050882637500763, 0.2611847221851349, 0.33299511671066284, 0.4379654824733734, 0.5442405343055725, 0.6261619925498962, 0.6828963756561279, 0.7198978662490845, 0.7417689561843872, 0.7585301399230957, 0.7682425379753113, 0.7735698819160461, 0.7756356000900269, 0.7788247466087341, 0.780491828918457, 0.7820138931274414, 0.7813796997070312, 0.7815790176391602, 0.7807455062866211, 0.7791871428489685, 0.778317391872406, 0.7764872312545776, 0.7755993604660034, 0.7743309736251831, 0.772935688495636, 0.771449863910675, 0.7686049342155457, 0.7670647501945496, 0.7672097086906433, 0.7663218379020691, 0.7634769678115845, 0.7611213326454163, 0.7612119317054749, 0.7587475776672363, 0.7575334906578064, 0.754996657371521, 0.7542718648910522, 0.7517712712287903, 0.752550482749939, 0.7493431568145752, 0.7486727237701416, 0.7476217746734619, 0.7468969225883484, 0.7466251254081726, 0.744921863079071, 0.742040753364563, 0.7418414354324341, 0.7398844361305237, 0.7406092286109924, 0.7397394776344299]\n"
     ]
    },
    {
     "ename": "AttributeError",
     "evalue": "'list' object has no attribute 'max'",
     "output_type": "error",
     "traceback": [
      "\u001b[0;31m---------------------------------------------------------------------------\u001b[0m",
      "\u001b[0;31mAttributeError\u001b[0m                            Traceback (most recent call last)",
      "Cell \u001b[0;32mIn[23], line 2\u001b[0m\n\u001b[1;32m      1\u001b[0m fig, axes \u001b[39m=\u001b[39m plt\u001b[39m.\u001b[39msubplots(\u001b[39m1\u001b[39m, \u001b[39m3\u001b[39m, figsize\u001b[39m=\u001b[39m(\u001b[39m16\u001b[39m, \u001b[39m4\u001b[39m))\n\u001b[0;32m----> 2\u001b[0m scatter_plot(axes[\u001b[39m0\u001b[39;49m], lora_runs, \u001b[39m'\u001b[39;49m\u001b[39mHR\u001b[39;49m\u001b[39m'\u001b[39;49m, label\u001b[39m=\u001b[39;49m\u001b[39m'\u001b[39;49m\u001b[39mLoRA\u001b[39;49m\u001b[39m'\u001b[39;49m, marker\u001b[39m=\u001b[39;49m\u001b[39m'\u001b[39;49m\u001b[39mo\u001b[39;49m\u001b[39m'\u001b[39;49m, linestyle\u001b[39m=\u001b[39;49m\u001b[39m'\u001b[39;49m\u001b[39mdashed\u001b[39;49m\u001b[39m'\u001b[39;49m, color\u001b[39m=\u001b[39;49m\u001b[39m'\u001b[39;49m\u001b[39mred\u001b[39;49m\u001b[39m'\u001b[39;49m, rescale_x\u001b[39m=\u001b[39;49m\u001b[39mmax\u001b[39;49m(update_numels), text_offset\u001b[39m=\u001b[39;49m\u001b[39m0.02\u001b[39;49m)\n\u001b[1;32m      3\u001b[0m scatter_plot(axes[\u001b[39m0\u001b[39m], svd_runs, \u001b[39m'\u001b[39m\u001b[39mHR\u001b[39m\u001b[39m'\u001b[39m, label\u001b[39m=\u001b[39m\u001b[39m'\u001b[39m\u001b[39mSVD\u001b[39m\u001b[39m'\u001b[39m, marker\u001b[39m=\u001b[39m\u001b[39m'\u001b[39m\u001b[39mx\u001b[39m\u001b[39m'\u001b[39m, linestyle\u001b[39m=\u001b[39m\u001b[39m'\u001b[39m\u001b[39mdashed\u001b[39m\u001b[39m'\u001b[39m, color\u001b[39m=\u001b[39m\u001b[39m'\u001b[39m\u001b[39mblue\u001b[39m\u001b[39m'\u001b[39m, rescale_x\u001b[39m=\u001b[39m\u001b[39mmax\u001b[39m(update_numels), text_offset\u001b[39m=\u001b[39m\u001b[39m0.02\u001b[39m)\n\u001b[1;32m      4\u001b[0m scatter_plot(axes[\u001b[39m0\u001b[39m], normal_runs, \u001b[39m'\u001b[39m\u001b[39mHR\u001b[39m\u001b[39m'\u001b[39m, label\u001b[39m=\u001b[39m\u001b[39m'\u001b[39m\u001b[39mStandard\u001b[39m\u001b[39m'\u001b[39m, marker\u001b[39m=\u001b[39m\u001b[39m'\u001b[39m\u001b[39m^\u001b[39m\u001b[39m'\u001b[39m, linestyle\u001b[39m=\u001b[39m\u001b[39m'\u001b[39m\u001b[39mdashed\u001b[39m\u001b[39m'\u001b[39m, color\u001b[39m=\u001b[39m\u001b[39m'\u001b[39m\u001b[39mgreen\u001b[39m\u001b[39m'\u001b[39m, rescale_x\u001b[39m=\u001b[39m\u001b[39mmax\u001b[39m(update_numels), text_offset\u001b[39m=\u001b[39m\u001b[39m0.02\u001b[39m)\n",
      "Cell \u001b[0;32mIn[22], line 13\u001b[0m, in \u001b[0;36mscatter_plot\u001b[0;34m(ax, runs, metric, label, marker, linestyle, color, rescale_x, min_value, text_offset)\u001b[0m\n\u001b[1;32m     10\u001b[0m \u001b[39m# y_val = run.summary[metric]\u001b[39;00m\n\u001b[1;32m     11\u001b[0m \u001b[39m# y_val = cached_hist[run.name][metric][np.argmin(cached_hist[run.name]['train_loss'])]\u001b[39;00m\n\u001b[1;32m     12\u001b[0m \u001b[39mprint\u001b[39m(cached_hist[run\u001b[39m.\u001b[39mname][metric])\n\u001b[0;32m---> 13\u001b[0m y_val \u001b[39m=\u001b[39m cached_hist[run\u001b[39m.\u001b[39mname][metric]\u001b[39m.\u001b[39mmin() \u001b[39mif\u001b[39;00m min_value \u001b[39melse\u001b[39;00m cached_hist[run\u001b[39m.\u001b[39;49mname][metric]\u001b[39m.\u001b[39;49mmax()\n\u001b[1;32m     14\u001b[0m y\u001b[39m.\u001b[39mappend(y_val)\n\u001b[1;32m     15\u001b[0m \u001b[39m# if 'lora' in run.name:\u001b[39;00m\n\u001b[1;32m     16\u001b[0m \u001b[39m#     lora_rank = run.config['model']['init']['lora_rank']\u001b[39;00m\n\u001b[1;32m     17\u001b[0m \u001b[39m#     # ax.text(x_val, y_val+text_offset, f\"r={lora_rank}\", fontsize=8)\u001b[39;00m\n\u001b[0;32m   (...)\u001b[0m\n\u001b[1;32m     20\u001b[0m \u001b[39m#     emb_size = run.config['model']['init']['gmf_emb_size']\u001b[39;00m\n\u001b[1;32m     21\u001b[0m \u001b[39m#     ax.text(x_val, y_val-text_offset, f\"d={emb_size}\", fontsize=8)\u001b[39;00m\n",
      "\u001b[0;31mAttributeError\u001b[0m: 'list' object has no attribute 'max'"
     ]
    },
    {
     "data": {
      "image/png": "[encoded data removed]",
      "text/plain": [
       "<Figure size 1152x288 with 3 Axes>"
      ]
     },
     "metadata": {
      "needs_background": "light"
     },
     "output_type": "display_data"
    }
   ],
   "source": [
    "fig, axes = plt.subplots(1, 3, figsize=(16, 4))\n",
    "scatter_plot(axes[0], lora_runs, 'HR', label='LoRA', marker='o', linestyle='dashed', color='red', rescale_x=max(update_numels), text_offset=0.02)\n",
    "scatter_plot(axes[0], svd_runs, 'HR', label='SVD', marker='x', linestyle='dashed', color='blue', rescale_x=max(update_numels), text_offset=0.02)\n",
    "scatter_plot(axes[0], normal_runs, 'HR', label='Standard', marker='^', linestyle='dashed', color='green', rescale_x=max(update_numels), text_offset=0.02)\n",
    "axes[0].set_xlabel('Transfer Size')\n",
    "axes[0].set_ylabel('HR')\n",
    "axes[0].legend()\n",
    "# axes[0].set_ylim([0.1, 0.5])\n",
    "# axes[0].axhline(y=max(all_HR), color='black', linestyle='-.')\n",
    "\n",
    "scatter_plot(axes[1], lora_runs, 'NDCG', label='LoRA', marker='o', linestyle='dashed', color='red', rescale_x=max(update_numels), text_offset=0.01)\n",
    "scatter_plot(axes[1], svd_runs, 'NDCG', label='SVD', marker='x', linestyle='dashed', color='blue', rescale_x=max(update_numels), text_offset=0.01)\n",
    "scatter_plot(axes[1], normal_runs, 'NDCG', label='Standard', marker='^', linestyle='dashed', color='green', rescale_x=max(update_numels), text_offset=0.01)\n",
    "axes[1].set_xlabel('Transfer Size')\n",
    "axes[1].set_ylabel('NDCG')\n",
    "# axes[1].set_ylim([0.15, 0.3])\n",
    "# axes[1].axhline(y=max(all_NDCG), color='black', linestyle='-.')\n",
    "\n",
    "\n",
    "scatter_plot(axes[2], lora_runs, 'train_loss', label='LoRA', marker='o', linestyle='dashed', color='red', rescale_x=max(update_numels), min_value=True, text_offset=0.01)\n",
    "scatter_plot(axes[2], svd_runs, 'train_loss', label='SVD', marker='x', linestyle='dashed', color='blue', rescale_x=max(update_numels), min_value=True, text_offset=0.01)\n",
    "scatter_plot(axes[2], normal_runs, 'train_loss', label='Standard', marker='^', linestyle='dashed', color='green', rescale_x=max(update_numels), min_value=True, text_offset=0.01)\n",
    "axes[2].set_xlabel('Transfer Size')\n",
    "axes[2].set_ylabel('Train loss')\n",
    "# axes[2].set_ylim([0.4, 0.6])"
   ]
  },
  {
   "cell_type": "code",
   "execution_count": 7,
   "metadata": {},
   "outputs": [],
   "source": [
    "fig.savefig('pinterest_fedmf.pdf', bbox_inches='tight')"
   ]
  },
  {
   "cell_type": "code",
   "execution_count": 9,
   "metadata": {},
   "outputs": [],
   "source": [
    "def plot_hist(run_name, axes, label, **style_kwargs):\n",
    "    HR = cached_hist[run_name]['HR']\n",
    "    NDCG = cached_hist[run_name]['NDCG']\n",
    "    train_loss = cached_hist[run_name]['train_loss']\n",
    "    epoch = cached_hist[run_name]['epoch']\n",
    "\n",
    "    axes[0].plot(epoch, HR, label=label, **style_kwargs)\n",
    "    axes[0].set_xlabel('Communication Rounds')\n",
    "    axes[0].set_ylabel('Metric')\n",
    "    \n",
    "\n",
    "    axes[1].plot(epoch, NDCG, label=label, **style_kwargs)\n",
    "    axes[1].set_xlabel('Communication Rounds')\n",
    "    axes[1].set_ylabel('NDCG')\n",
    "\n",
    "    axes[2].plot(epoch, train_loss, label=label, **style_kwargs)\n",
    "    axes[2].set_xlabel('Communication Rounds')\n",
    "    axes[2].set_ylabel('Train loss')\n"
   ]
  },
  {
   "cell_type": "code",
   "execution_count": 10,
   "metadata": {},
   "outputs": [],
   "source": [
    "color_set = ['red', 'blue', 'green', 'orange', 'purple', 'brown', 'pink', 'gray', 'olive', 'cyan']\n",
    "marker_set = ['o', 'x', '^', 'v', 's', 'p', '*', 'h', 'D', 'P']"
   ]
  },
  {
   "cell_type": "code",
   "execution_count": 11,
   "metadata": {},
   "outputs": [
    {
     "ename": "KeyError",
     "evalue": "'fedmf64-550-2-229'",
     "output_type": "error",
     "traceback": [
      "\u001b[0;31m---------------------------------------------------------------------------\u001b[0m",
      "\u001b[0;31mKeyError\u001b[0m                                  Traceback (most recent call last)",
      "Cell \u001b[0;32mIn[11], line 3\u001b[0m\n\u001b[1;32m      1\u001b[0m fig, axes \u001b[39m=\u001b[39m plt\u001b[39m.\u001b[39msubplots(\u001b[39m1\u001b[39m, \u001b[39m3\u001b[39m, figsize\u001b[39m=\u001b[39m(\u001b[39m16\u001b[39m, \u001b[39m4\u001b[39m))\n\u001b[1;32m      2\u001b[0m style_1 \u001b[39m=\u001b[39m {\u001b[39m'\u001b[39m\u001b[39mmarker\u001b[39m\u001b[39m'\u001b[39m:marker_set[\u001b[39m0\u001b[39m], \u001b[39m'\u001b[39m\u001b[39mlinestyle\u001b[39m\u001b[39m'\u001b[39m:\u001b[39m'\u001b[39m\u001b[39m-\u001b[39m\u001b[39m'\u001b[39m, \u001b[39m'\u001b[39m\u001b[39mcolor\u001b[39m\u001b[39m'\u001b[39m:color_set[\u001b[39m0\u001b[39m]}\n\u001b[0;32m----> 3\u001b[0m plot_hist(\u001b[39m'\u001b[39;49m\u001b[39mfedmf64-550-2-229\u001b[39;49m\u001b[39m'\u001b[39;49m, axes, label\u001b[39m=\u001b[39;49m\u001b[39m\"\u001b[39;49m\u001b[39mBase\u001b[39;49m\u001b[39m\"\u001b[39;49m, \u001b[39m*\u001b[39;49m\u001b[39m*\u001b[39;49mstyle_1)\n\u001b[1;32m      5\u001b[0m style_2 \u001b[39m=\u001b[39m {\u001b[39m'\u001b[39m\u001b[39mmarker\u001b[39m\u001b[39m'\u001b[39m:marker_set[\u001b[39m1\u001b[39m], \u001b[39m'\u001b[39m\u001b[39mlinestyle\u001b[39m\u001b[39m'\u001b[39m:\u001b[39m'\u001b[39m\u001b[39m--\u001b[39m\u001b[39m'\u001b[39m, \u001b[39m'\u001b[39m\u001b[39mcolor\u001b[39m\u001b[39m'\u001b[39m:color_set[\u001b[39m1\u001b[39m]}\n\u001b[1;32m      6\u001b[0m plot_hist(\u001b[39m'\u001b[39m\u001b[39mfedmf64_lora16_freezeB-550-2-227\u001b[39m\u001b[39m'\u001b[39m, axes, label\u001b[39m=\u001b[39m\u001b[39m\"\u001b[39m\u001b[39mLora-16\u001b[39m\u001b[39m\"\u001b[39m, \u001b[39m*\u001b[39m\u001b[39m*\u001b[39mstyle_2)\n",
      "Cell \u001b[0;32mIn[9], line 2\u001b[0m, in \u001b[0;36mplot_hist\u001b[0;34m(run_name, axes, label, **style_kwargs)\u001b[0m\n\u001b[1;32m      1\u001b[0m \u001b[39mdef\u001b[39;00m \u001b[39mplot_hist\u001b[39m(run_name, axes, label, \u001b[39m*\u001b[39m\u001b[39m*\u001b[39mstyle_kwargs):\n\u001b[0;32m----> 2\u001b[0m     HR \u001b[39m=\u001b[39m cached_hist[run_name][\u001b[39m'\u001b[39m\u001b[39mHR\u001b[39m\u001b[39m'\u001b[39m]\n\u001b[1;32m      3\u001b[0m     NDCG \u001b[39m=\u001b[39m cached_hist[run_name][\u001b[39m'\u001b[39m\u001b[39mNDCG\u001b[39m\u001b[39m'\u001b[39m]\n\u001b[1;32m      4\u001b[0m     train_loss \u001b[39m=\u001b[39m cached_hist[run_name][\u001b[39m'\u001b[39m\u001b[39mtrain_loss\u001b[39m\u001b[39m'\u001b[39m]\n",
      "\u001b[0;31mKeyError\u001b[0m: 'fedmf64-550-2-229'"
     ]
    },
    {
     "data": {
      "image/png": "[encoded data removed]",
      "text/plain": [
       "<Figure size 1152x288 with 3 Axes>"
      ]
     },
     "metadata": {
      "needs_background": "light"
     },
     "output_type": "display_data"
    }
   ],
   "source": [
    "fig, axes = plt.subplots(1, 3, figsize=(16, 4))\n",
    "style_1 = {'marker':marker_set[0], 'linestyle':'-', 'color':color_set[0]}\n",
    "plot_hist('fedmf64-550-2-229', axes, label=\"Base\", **style_1)\n",
    "\n",
    "style_2 = {'marker':marker_set[1], 'linestyle':'--', 'color':color_set[1]}\n",
    "plot_hist('fedmf64_lora16_freezeB-550-2-227', axes, label=\"Lora-16\", **style_2)\n",
    "\n",
    "style_3 = {'marker':marker_set[2], 'linestyle':'--', 'color':color_set[2]}\n",
    "plot_hist('fedmf64_lora8_freezeB-550-2-226', axes, label=\"Lora-8\", **style_3)\n",
    "\n",
    "style_4 = {'marker':marker_set[3], 'linestyle':'--', 'color':color_set[3]}\n",
    "plot_hist('fedmf64_lora4_freezeB-550-2-225', axes, label=\"Lora-4\", **style_4)\n",
    "\n",
    "axes[0].legend()"
   ]
  },
  {
   "cell_type": "code",
   "execution_count": null,
   "metadata": {},
   "outputs": [],
   "source": []
  }
 ],
 "metadata": {
  "kernelspec": {
   "display_name": "rec",
   "language": "python",
   "name": "python3"
  },
  "language_info": {
   "codemirror_mode": {
    "name": "ipython",
    "version": 3
   },
   "file_extension": ".py",
   "mimetype": "text/x-python",
   "name": "python",
   "nbconvert_exporter": "python",
   "pygments_lexer": "ipython3",
   "version": "3.8.13"
  },
  "orig_nbformat": 4
 },
 "nbformat": 4,
 "nbformat_minor": 2
}
