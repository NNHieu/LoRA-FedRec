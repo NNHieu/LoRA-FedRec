{
 "cells": [
  {
   "cell_type": "code",
   "execution_count": 1,
   "metadata": {},
   "outputs": [],
   "source": [
    "import wandb\n",
    "import matplotlib.pyplot as plt\n",
    "import numpy as np"
   ]
  },
  {
   "cell_type": "code",
   "execution_count": 2,
   "metadata": {},
   "outputs": [],
   "source": [
    "api = wandb.Api()\n",
    "runs = api.runs('hiue/lowrank-fedrec-2', {\n",
    "    \"$and\": [{\n",
    "        # 'config.data.name': 'movielens',\n",
    "        # 'config.dataloader.batch_size': 32,\n",
    "        # 'config.data.name': 'foursq-ny',\n",
    "        # 'config.task_name': 'fedsweep3',\n",
    "        # 'config.dataloader.batch_size': 16,\n",
    "        # 'config.trainer.lr': 5e-3,\n",
    "\n",
    "        # 'config.data.name': 'foursq-ny',\n",
    "        # 'config.dataloader.batch_size': 16,\n",
    "        # 'config.trainer.lr': 7e-3,\n",
    "        'tags': {\n",
    "            \"$in\": ['selected']\n",
    "        },\n",
    "        'config.data.name': 'pinterest',\n",
    "        'config.task_name': 'fedtrain5',    \n",
    "        # 'state': 'finished'\n",
    "        }]\n",
    "})"
   ]
  },
  {
   "cell_type": "code",
   "execution_count": 3,
   "metadata": {},
   "outputs": [
    {
     "name": "stdout",
     "output_type": "stream",
     "text": [
      "Name: fedmf64_lora2_freezeB-550-2-267, Id: e31jbqnm\n",
      "Name: fedmf64-svd2-550-2-265, Id: 1u8sobjg\n",
      "Name: fedmf64-svd16-550-2-260, Id: 1z845shx\n",
      "Name: fedmf64-svd8-550-2-258, Id: 2wzpf2gc\n",
      "Name: fedmf64-svd4-550-2-257, Id: 2em7rm48\n",
      "Name: fedmf64_lora16_freezeB-550-2-252, Id: 38s7yeav\n",
      "Name: fedmf32-550-2-248, Id: kiwsto0i\n",
      "Name: fedmf64_lora8_freezeB-550-2-247, Id: 1662yvjr\n",
      "Name: fedmf64_lora4_freezeB-550-2-246, Id: 2y2qbr7x\n",
      "Name: fedmf64-550-2-244, Id: zft46z4g\n",
      "Name: fedmf16-550-2-238, Id: obxd5cqo\n",
      "Name: fedmf8-550-2-237, Id: roxerdxt\n",
      "Name: fedmf4-550-2-236, Id: 9iz39t2j\n"
     ]
    }
   ],
   "source": [
    "lora_runs = []\n",
    "svd_runs = []\n",
    "normal_runs = []\n",
    "\n",
    "update_numels = []\n",
    "all_HR = []\n",
    "all_NDCG = []\n",
    "all_loss = []\n",
    "\n",
    "histories = {}\n",
    "\n",
    "for run in runs:\n",
    "    print(\"Name: {}, Id: {}\".format(run.name, run.id))\n",
    "    if 'lora' in run.name:\n",
    "        if run.config['model']['init']['lora_rank'] == run.config['model']['init']['lora_alpha']:\n",
    "            lora_runs.append(run)\n",
    "        else:\n",
    "            continue\n",
    "    elif 'svd' in run.name:\n",
    "        svd_runs.append(run)\n",
    "    else:\n",
    "        normal_runs.append(run)\n",
    "    update_numels.append(run.summary['update_numel'])\n",
    "    # histories[run.name] = run.history(samples=20)\n",
    "    histories[run.name] = run.scan_history(keys=['train_loss', 'HR', 'NDCG', 'epoch'])\n",
    "    # all_HR.append(run.history()['HR'].max())\n",
    "    # all_NDCG.append(run.history()['NDCG'].max())\n",
    "    # all_loss.append(run.history()['train_loss'].min())"
   ]
  },
  {
   "cell_type": "code",
   "execution_count": 11,
   "metadata": {},
   "outputs": [
    {
     "data": {
      "text/plain": [
       "['fedmf32-550-2-248',\n",
       " 'fedmf64-550-2-244',\n",
       " 'fedmf16-550-2-238',\n",
       " 'fedmf8-550-2-237',\n",
       " 'fedmf4-550-2-236']"
      ]
     },
     "execution_count": 11,
     "metadata": {},
     "output_type": "execute_result"
    }
   ],
   "source": [
    "normal_runs_names = [run.name for run in normal_runs]\n",
    "normal_runs_names"
   ]
  },
  {
   "cell_type": "code",
   "execution_count": 13,
   "metadata": {},
   "outputs": [],
   "source": [
    "df = normal_runs[1].scan_history(keys=['fit', 'set_parameters', 'get_parameters', 'compression'])"
   ]
  },
  {
   "cell_type": "code",
   "execution_count": 16,
   "metadata": {},
   "outputs": [
    {
     "ename": "TypeError",
     "evalue": "object of type 'SampledHistoryScan' has no len()",
     "output_type": "error",
     "traceback": [
      "\u001b[0;31m---------------------------------------------------------------------------\u001b[0m",
      "\u001b[0;31mTypeError\u001b[0m                                 Traceback (most recent call last)",
      "Cell \u001b[0;32mIn[16], line 6\u001b[0m\n\u001b[1;32m      3\u001b[0m get_parameters_times \u001b[39m=\u001b[39m []\n\u001b[1;32m      4\u001b[0m compression_times \u001b[39m=\u001b[39m []\n\u001b[0;32m----> 6\u001b[0m \u001b[39mfor\u001b[39;00m i \u001b[39min\u001b[39;00m \u001b[39mrange\u001b[39m(\u001b[39mlen\u001b[39;49m(df)):\n\u001b[1;32m      7\u001b[0m     fit_times\u001b[39m.\u001b[39mappend(df[i][\u001b[39m'\u001b[39m\u001b[39mfit\u001b[39m\u001b[39m'\u001b[39m])\n\u001b[1;32m      8\u001b[0m     set_parameters_times\u001b[39m.\u001b[39mappend(df[i][\u001b[39m'\u001b[39m\u001b[39mset_parameters\u001b[39m\u001b[39m'\u001b[39m])\n",
      "\u001b[0;31mTypeError\u001b[0m: object of type 'SampledHistoryScan' has no len()"
     ]
    }
   ],
   "source": [
    "fit_times = []\n",
    "set_parameters_times = []\n",
    "get_parameters_times = []\n",
    "compression_times = []\n",
    "\n",
    "for row df:\n",
    "    fit_times.append(df[i]['fit'])\n",
    "    set_parameters_times.append(df[i]['set_parameters'])\n",
    "    get_parameters_times.append(df[i]['get_parameters'])\n",
    "    compression_times.append(df[i]['compression'])"
   ]
  },
  {
   "cell_type": "code",
   "execution_count": null,
   "metadata": {},
   "outputs": [],
   "source": [
    "cached_hist = {}\n",
    "for k, v in histories.items():\n",
    "    cached_hist[k] = {}\n",
    "    cached_hist[k]['HR'] = [row['HR'] for row in v]\n",
    "    cached_hist[k]['NDCG'] = [row['NDCG'] for row in v]\n",
    "    cached_hist[k]['train_loss'] = [row['train_loss'] for row in v]\n",
    "    cached_hist[k]['epoch'] = [row['epoch'] for row in v]"
   ]
  },
  {
   "cell_type": "code",
   "execution_count": 5,
   "metadata": {},
   "outputs": [],
   "source": [
    "def scatter_plot(ax, runs, metric, label=None, marker='o', linestyle='dashed', color=None, rescale_x=None, min_value=False, text_offset=0.02):\n",
    "    x = []\n",
    "    y = []\n",
    "    for run in runs:\n",
    "        x_val = run.summary['update_numel']\n",
    "        if rescale_x is not None:\n",
    "            x_val = x_val / rescale_x\n",
    "        x.append(x_val)\n",
    "\n",
    "        y_val = run.summary[metric]\n",
    "        # y_val = cached_hist[run.name][metric][np.argmin(cached_hist[run.name]['train_loss'])]\n",
    "        # y_val = min(cached_hist[run.name][metric]) if min_value else max(cached_hist[run.name][metric])\n",
    "        y.append(y_val)\n",
    "        # if 'lora' in run.name:\n",
    "        #     lora_rank = run.config['model']['init']['lora_rank']\n",
    "        #     # ax.text(x_val, y_val+text_offset, f\"r={lora_rank}\", fontsize=8)\n",
    "        #     ax.annotate(f\"r={lora_rank}\", (x_val, y_val), xytext=(x_val, y_val+text_offset), fontsize=8)\n",
    "        # else:\n",
    "        #     emb_size = run.config['model']['init']['gmf_emb_size']\n",
    "        #     ax.text(x_val, y_val-text_offset, f\"d={emb_size}\", fontsize=8)\n",
    "\n",
    "    ids = np.argsort(x)\n",
    "    x = np.array(x)[ids]\n",
    "    y = np.array(y)[ids]\n",
    "    ax.plot(x, y, label=label, marker=marker, linestyle=linestyle, color=color)"
   ]
  },
  {
   "cell_type": "code",
   "execution_count": 6,
   "metadata": {},
   "outputs": [
    {
     "data": {
      "text/plain": [
       "Text(0, 0.5, 'Train loss')"
      ]
     },
     "execution_count": 6,
     "metadata": {},
     "output_type": "execute_result"
    },
    {
     "data": {
      "image/png": "[encoded data removed]",
      "text/plain": [
       "<Figure size 1152x288 with 3 Axes>"
      ]
     },
     "metadata": {
      "needs_background": "light"
     },
     "output_type": "display_data"
    }
   ],
   "source": [
    "fig, axes = plt.subplots(1, 3, figsize=(16, 4))\n",
    "scatter_plot(axes[0], lora_runs, 'HR', label='LoRA', marker='o', linestyle='dashed', color='red', rescale_x=max(update_numels), text_offset=0.02)\n",
    "scatter_plot(axes[0], svd_runs, 'HR', label='SVD', marker='x', linestyle='dashed', color='blue', rescale_x=max(update_numels), text_offset=0.02)\n",
    "scatter_plot(axes[0], normal_runs, 'HR', label='Standard', marker='^', linestyle='dashed', color='green', rescale_x=max(update_numels), text_offset=0.02)\n",
    "axes[0].set_xlabel('Transfer Size')\n",
    "axes[0].set_ylabel('HR')\n",
    "axes[0].legend()\n",
    "# axes[0].set_ylim([0.1, 0.5])\n",
    "# axes[0].axhline(y=max(all_HR), color='black', linestyle='-.')\n",
    "\n",
    "scatter_plot(axes[1], lora_runs, 'NDCG', label='LoRA', marker='o', linestyle='dashed', color='red', rescale_x=max(update_numels), text_offset=0.01)\n",
    "scatter_plot(axes[1], svd_runs, 'NDCG', label='SVD', marker='x', linestyle='dashed', color='blue', rescale_x=max(update_numels), text_offset=0.01)\n",
    "scatter_plot(axes[1], normal_runs, 'NDCG', label='Standard', marker='^', linestyle='dashed', color='green', rescale_x=max(update_numels), text_offset=0.01)\n",
    "axes[1].set_xlabel('Transfer Size')\n",
    "axes[1].set_ylabel('NDCG')\n",
    "# axes[1].set_ylim([0.15, 0.3])\n",
    "# axes[1].axhline(y=max(all_NDCG), color='black', linestyle='-.')\n",
    "\n",
    "\n",
    "scatter_plot(axes[2], lora_runs, 'train_loss', label='LoRA', marker='o', linestyle='dashed', color='red', rescale_x=max(update_numels), min_value=True, text_offset=0.01)\n",
    "scatter_plot(axes[2], svd_runs, 'train_loss', label='SVD', marker='x', linestyle='dashed', color='blue', rescale_x=max(update_numels), min_value=True, text_offset=0.01)\n",
    "scatter_plot(axes[2], normal_runs, 'train_loss', label='Standard', marker='^', linestyle='dashed', color='green', rescale_x=max(update_numels), min_value=True, text_offset=0.01)\n",
    "axes[2].set_xlabel('Transfer Size')\n",
    "axes[2].set_ylabel('Train loss')\n",
    "# axes[2].set_ylim([0.4, 0.6])"
   ]
  },
  {
   "cell_type": "code",
   "execution_count": 7,
   "metadata": {},
   "outputs": [],
   "source": [
    "fig.savefig('figures/pinterest_fedmf.pdf', bbox_inches='tight')"
   ]
  },
  {
   "cell_type": "code",
   "execution_count": 9,
   "metadata": {},
   "outputs": [],
   "source": [
    "def plot_hist(run_name, axes, label, **style_kwargs):\n",
    "    HR = cached_hist[run_name]['HR']\n",
    "    NDCG = cached_hist[run_name]['NDCG']\n",
    "    train_loss = cached_hist[run_name]['train_loss']\n",
    "    epoch = cached_hist[run_name]['epoch']\n",
    "\n",
    "    axes[0].plot(epoch, HR, label=label, **style_kwargs)\n",
    "    axes[0].set_xlabel('Communication Rounds')\n",
    "    axes[0].set_ylabel('Metric')\n",
    "    \n",
    "\n",
    "    axes[1].plot(epoch, NDCG, label=label, **style_kwargs)\n",
    "    axes[1].set_xlabel('Communication Rounds')\n",
    "    axes[1].set_ylabel('NDCG')\n",
    "\n",
    "    axes[2].plot(epoch, train_loss, label=label, **style_kwargs)\n",
    "    axes[2].set_xlabel('Communication Rounds')\n",
    "    axes[2].set_ylabel('Train loss')\n"
   ]
  },
  {
   "cell_type": "code",
   "execution_count": 10,
   "metadata": {},
   "outputs": [],
   "source": [
    "color_set = ['red', 'blue', 'green', 'orange', 'purple', 'brown', 'pink', 'gray', 'olive', 'cyan']\n",
    "marker_set = ['o', 'x', '^', 'v', 's', 'p', '*', 'h', 'D', 'P']"
   ]
  },
  {
   "cell_type": "code",
   "execution_count": 11,
   "metadata": {},
   "outputs": [
    {
     "ename": "KeyError",
     "evalue": "'fedmf64-550-2-229'",
     "output_type": "error",
     "traceback": [
      "\u001b[0;31m---------------------------------------------------------------------------\u001b[0m",
      "\u001b[0;31mKeyError\u001b[0m                                  Traceback (most recent call last)",
      "Cell \u001b[0;32mIn[11], line 3\u001b[0m\n\u001b[1;32m      1\u001b[0m fig, axes \u001b[39m=\u001b[39m plt\u001b[39m.\u001b[39msubplots(\u001b[39m1\u001b[39m, \u001b[39m3\u001b[39m, figsize\u001b[39m=\u001b[39m(\u001b[39m16\u001b[39m, \u001b[39m4\u001b[39m))\n\u001b[1;32m      2\u001b[0m style_1 \u001b[39m=\u001b[39m {\u001b[39m'\u001b[39m\u001b[39mmarker\u001b[39m\u001b[39m'\u001b[39m:marker_set[\u001b[39m0\u001b[39m], \u001b[39m'\u001b[39m\u001b[39mlinestyle\u001b[39m\u001b[39m'\u001b[39m:\u001b[39m'\u001b[39m\u001b[39m-\u001b[39m\u001b[39m'\u001b[39m, \u001b[39m'\u001b[39m\u001b[39mcolor\u001b[39m\u001b[39m'\u001b[39m:color_set[\u001b[39m0\u001b[39m]}\n\u001b[0;32m----> 3\u001b[0m plot_hist(\u001b[39m'\u001b[39;49m\u001b[39mfedmf64-550-2-229\u001b[39;49m\u001b[39m'\u001b[39;49m, axes, label\u001b[39m=\u001b[39;49m\u001b[39m\"\u001b[39;49m\u001b[39mBase\u001b[39;49m\u001b[39m\"\u001b[39;49m, \u001b[39m*\u001b[39;49m\u001b[39m*\u001b[39;49mstyle_1)\n\u001b[1;32m      5\u001b[0m style_2 \u001b[39m=\u001b[39m {\u001b[39m'\u001b[39m\u001b[39mmarker\u001b[39m\u001b[39m'\u001b[39m:marker_set[\u001b[39m1\u001b[39m], \u001b[39m'\u001b[39m\u001b[39mlinestyle\u001b[39m\u001b[39m'\u001b[39m:\u001b[39m'\u001b[39m\u001b[39m--\u001b[39m\u001b[39m'\u001b[39m, \u001b[39m'\u001b[39m\u001b[39mcolor\u001b[39m\u001b[39m'\u001b[39m:color_set[\u001b[39m1\u001b[39m]}\n\u001b[1;32m      6\u001b[0m plot_hist(\u001b[39m'\u001b[39m\u001b[39mfedmf64_lora16_freezeB-550-2-227\u001b[39m\u001b[39m'\u001b[39m, axes, label\u001b[39m=\u001b[39m\u001b[39m\"\u001b[39m\u001b[39mLora-16\u001b[39m\u001b[39m\"\u001b[39m, \u001b[39m*\u001b[39m\u001b[39m*\u001b[39mstyle_2)\n",
      "Cell \u001b[0;32mIn[9], line 2\u001b[0m, in \u001b[0;36mplot_hist\u001b[0;34m(run_name, axes, label, **style_kwargs)\u001b[0m\n\u001b[1;32m      1\u001b[0m \u001b[39mdef\u001b[39;00m \u001b[39mplot_hist\u001b[39m(run_name, axes, label, \u001b[39m*\u001b[39m\u001b[39m*\u001b[39mstyle_kwargs):\n\u001b[0;32m----> 2\u001b[0m     HR \u001b[39m=\u001b[39m cached_hist[run_name][\u001b[39m'\u001b[39m\u001b[39mHR\u001b[39m\u001b[39m'\u001b[39m]\n\u001b[1;32m      3\u001b[0m     NDCG \u001b[39m=\u001b[39m cached_hist[run_name][\u001b[39m'\u001b[39m\u001b[39mNDCG\u001b[39m\u001b[39m'\u001b[39m]\n\u001b[1;32m      4\u001b[0m     train_loss \u001b[39m=\u001b[39m cached_hist[run_name][\u001b[39m'\u001b[39m\u001b[39mtrain_loss\u001b[39m\u001b[39m'\u001b[39m]\n",
      "\u001b[0;31mKeyError\u001b[0m: 'fedmf64-550-2-229'"
     ]
    },
    {
     "data": {
      "image/png": "[encoded data removed]",
      "text/plain": [
       "<Figure size 1152x288 with 3 Axes>"
      ]
     },
     "metadata": {
      "needs_background": "light"
     },
     "output_type": "display_data"
    }
   ],
   "source": [
    "fig, axes = plt.subplots(1, 3, figsize=(16, 4))\n",
    "style_1 = {'marker':marker_set[0], 'linestyle':'-', 'color':color_set[0]}\n",
    "plot_hist('fedmf64-550-2-229', axes, label=\"Base\", **style_1)\n",
    "\n",
    "style_2 = {'marker':marker_set[1], 'linestyle':'--', 'color':color_set[1]}\n",
    "plot_hist('fedmf64_lora16_freezeB-550-2-227', axes, label=\"Lora-16\", **style_2)\n",
    "\n",
    "style_3 = {'marker':marker_set[2], 'linestyle':'--', 'color':color_set[2]}\n",
    "plot_hist('fedmf64_lora8_freezeB-550-2-226', axes, label=\"Lora-8\", **style_3)\n",
    "\n",
    "style_4 = {'marker':marker_set[3], 'linestyle':'--', 'color':color_set[3]}\n",
    "plot_hist('fedmf64_lora4_freezeB-550-2-225', axes, label=\"Lora-4\", **style_4)\n",
    "\n",
    "axes[0].legend()"
   ]
  },
  {
   "cell_type": "code",
   "execution_count": null,
   "metadata": {},
   "outputs": [],
   "source": []
  }
 ],
 "metadata": {
  "kernelspec": {
   "display_name": "rec",
   "language": "python",
   "name": "python3"
  },
  "language_info": {
   "codemirror_mode": {
    "name": "ipython",
    "version": 3
   },
   "file_extension": ".py",
   "mimetype": "text/x-python",
   "name": "python",
   "nbconvert_exporter": "python",
   "pygments_lexer": "ipython3",
   "version": "3.8.13"
  },
  "orig_nbformat": 4
 },
 "nbformat": 4,
 "nbformat_minor": 2
}
