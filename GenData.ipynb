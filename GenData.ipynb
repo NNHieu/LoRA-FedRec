{
 "cells": [
  {
   "cell_type": "code",
   "execution_count": 14,
   "metadata": {},
   "outputs": [],
   "source": [
    "from gen_data import *\n",
    "import pandas as pd\n",
    "import numpy as np\n",
    "from pathlib import Path"
   ]
  },
  {
   "cell_type": "code",
   "execution_count": 18,
   "metadata": {},
   "outputs": [],
   "source": [
    "DATA_ROOT = './data'\n",
    "dataset_name = 'ml-1m'\n",
    "prefix = dataset_name\n",
    "\n",
    "file_names = {\n",
    "        \"train_ratings\": f\"{prefix}.train.rating\",\n",
    "        \"test_ratings\": f\"{prefix}.test.rating\",\n",
    "        \"test_negative\": f\"{prefix}.test.negative\",}"
   ]
  },
  {
   "cell_type": "code",
   "execution_count": 19,
   "metadata": {},
   "outputs": [],
   "source": [
    "# ds, df, cfg = get_df_from_recbole(DATA_ROOT, dataset_name=dataset_name)\n",
    "root = Path(DATA_ROOT) / \"Data\"\n",
    "train_df = pd.read_csv(\n",
    "            root / file_names['train_ratings'], \n",
    "            sep='\\t', header=None, names=['user', 'item', 'rating', 'timestamp'], \n",
    "            usecols=[0, 1, 2, 3], dtype={0: np.int32, 1: np.int32}\n",
    "        )"
   ]
  },
  {
   "cell_type": "code",
   "execution_count": 20,
   "metadata": {},
   "outputs": [
    {
     "name": "stdout",
     "output_type": "stream",
     "text": [
      "      item  count\n",
      "0        0   1721\n",
      "1        1    521\n",
      "2        2    632\n",
      "3        3   1292\n",
      "4        4   1694\n",
      "...    ...    ...\n",
      "3699  3701      2\n",
      "3700  3702      1\n",
      "3701  3703      1\n",
      "3702  3704      1\n",
      "3703  3705      1\n",
      "\n",
      "[3704 rows x 2 columns]\n",
      "5\n"
     ]
    }
   ],
   "source": [
    "# item_pool, pos_item_dict, user_interaction_count, item_interaction_count = get_neg_items(df)\n",
    "# Sort data by timestamp\n",
    "time_field = 'timestamp'\n",
    "train_df.sort_values(by=time_field, ascending=True, inplace=True)\n",
    "item_pool, pos_item_dict, user_interaction_count, item_interaction_count = get_neg_items(train_df)"
   ]
  },
  {
   "cell_type": "code",
   "execution_count": 21,
   "metadata": {},
   "outputs": [],
   "source": [
    "inter_id_groupby_users = {}\n",
    "for i, key in enumerate(train_df['user'].values):\n",
    "    if key not in inter_id_groupby_users:\n",
    "        inter_id_groupby_users[key] = [i]\n",
    "    else:\n",
    "        inter_id_groupby_users[key].append(i)\n",
    "grouped_inter_feat_index = inter_id_groupby_users.values()"
   ]
  },
  {
   "cell_type": "code",
   "execution_count": 22,
   "metadata": {},
   "outputs": [
    {
     "data": {
      "text/plain": [
       "[899695,\n",
       " 899700,\n",
       " 899701,\n",
       " 899702,\n",
       " 899706,\n",
       " 899715,\n",
       " 899721,\n",
       " 899722,\n",
       " 899723,\n",
       " 899724,\n",
       " 899725,\n",
       " 899726,\n",
       " 899727,\n",
       " 899728,\n",
       " 899729,\n",
       " 899730,\n",
       " 899731,\n",
       " 899732,\n",
       " 899733,\n",
       " 899734,\n",
       " 899735,\n",
       " 899736,\n",
       " 899737,\n",
       " 899738,\n",
       " 899740,\n",
       " 899741,\n",
       " 899742,\n",
       " 899743,\n",
       " 899744,\n",
       " 899745,\n",
       " 899746,\n",
       " 899747,\n",
       " 899748,\n",
       " 899749,\n",
       " 899750,\n",
       " 899751,\n",
       " 899752,\n",
       " 899755,\n",
       " 899756,\n",
       " 899757,\n",
       " 905182,\n",
       " 905183,\n",
       " 905184,\n",
       " 905185,\n",
       " 905186,\n",
       " 905187,\n",
       " 905188,\n",
       " 905189,\n",
       " 905190,\n",
       " 905191,\n",
       " 905192,\n",
       " 905193]"
      ]
     },
     "execution_count": 22,
     "metadata": {},
     "output_type": "execute_result"
    }
   ],
   "source": [
    "inter_id_groupby_users[0]"
   ]
  },
  {
   "cell_type": "code",
   "execution_count": 29,
   "metadata": {},
   "outputs": [],
   "source": [
    "tmp = train_df.groupby('user').indices\n",
    "for k in tmp.keys():\n",
    "    assert all(tmp[k] == inter_id_groupby_users[k])"
   ]
  },
  {
   "cell_type": "code",
   "execution_count": null,
   "metadata": {},
   "outputs": [],
   "source": []
  }
 ],
 "metadata": {
  "kernelspec": {
   "display_name": "rec",
   "language": "python",
   "name": "python3"
  },
  "language_info": {
   "codemirror_mode": {
    "name": "ipython",
    "version": 3
   },
   "file_extension": ".py",
   "mimetype": "text/x-python",
   "name": "python",
   "nbconvert_exporter": "python",
   "pygments_lexer": "ipython3",
   "version": "3.8.13"
  },
  "orig_nbformat": 4
 },
 "nbformat": 4,
 "nbformat_minor": 2
}
