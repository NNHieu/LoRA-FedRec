{
 "cells": [
  {
   "cell_type": "code",
   "execution_count": null,
   "metadata": {},
   "outputs": [],
   "source": [
    "from typing import List, Any, Tuple\n",
    "import hydra\n",
    "from omegaconf import OmegaConf\n",
    "import torch.nn\n",
    "import os\n",
    "import pandas as pd\n",
    "import numpy as np\n",
    "from pathlib import Path\n",
    "import random\n",
    "import torch\n",
    "from torch.utils.data import DataLoader\n",
    "import copy\n",
    "import tqdm\n",
    "import logging\n",
    "import rec\n",
    "from stats import TimeStats, Logger\n",
    "import torch.nn.functional as F\n",
    "import fedlib\n",
    "from fedlib.comm import ClientSampler\n",
    "\n",
    "import wandb"
   ]
  },
  {
   "cell_type": "code",
   "execution_count": null,
   "metadata": {},
   "outputs": [],
   "source": [
    "\n"
   ]
  }
 ],
 "metadata": {
  "kernelspec": {
   "display_name": "fedrec",
   "language": "python",
   "name": "python3"
  },
  "language_info": {
   "name": "python",
   "version": "3.11.3"
  },
  "orig_nbformat": 4
 },
 "nbformat": 4,
 "nbformat_minor": 2
}
