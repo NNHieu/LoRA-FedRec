{
 "cells": [
  {
   "cell_type": "code",
   "execution_count": 7,
   "metadata": {},
   "outputs": [],
   "source": [
    "import settings\n",
    "import os\n",
    "from rec.data import RecDataModule"
   ]
  },
  {
   "cell_type": "code",
   "execution_count": 8,
   "metadata": {},
   "outputs": [
    {
     "data": {
      "text/plain": [
       "'/home/cyanos/Workspace/FedRec/LoRA-FedRec/FedNCF/notebooks'"
      ]
     },
     "execution_count": 8,
     "metadata": {},
     "output_type": "execute_result"
    }
   ],
   "source": [
    "os.getcwd()"
   ]
  },
  {
   "cell_type": "code",
   "execution_count": 9,
   "metadata": {},
   "outputs": [],
   "source": [
    "dm = RecDataModule(root=\"../../dataset/pinterest/\")"
   ]
  },
  {
   "cell_type": "code",
   "execution_count": 10,
   "metadata": {},
   "outputs": [],
   "source": [
    "dm.setup()"
   ]
  },
  {
   "cell_type": "code",
   "execution_count": 11,
   "metadata": {},
   "outputs": [
    {
     "data": {
      "text/plain": [
       "user      55187\n",
       "item       9911\n",
       "rating        1\n",
       "dtype: int64"
      ]
     },
     "execution_count": 11,
     "metadata": {},
     "output_type": "execute_result"
    }
   ],
   "source": [
    "dm.post_train_df.nunique()"
   ]
  },
  {
   "cell_type": "code",
   "execution_count": 12,
   "metadata": {},
   "outputs": [
    {
     "data": {
      "text/plain": [
       "user      55186.0\n",
       "item       9915.0\n",
       "rating        1.0\n",
       "dtype: float64"
      ]
     },
     "execution_count": 12,
     "metadata": {},
     "output_type": "execute_result"
    }
   ],
   "source": [
    "dm.post_train_df.max()"
   ]
  },
  {
   "cell_type": "code",
   "execution_count": 13,
   "metadata": {},
   "outputs": [
    {
     "data": {
      "text/plain": [
       "{7794, 9477, 9506, 9646, 9832}"
      ]
     },
     "execution_count": 13,
     "metadata": {},
     "output_type": "execute_result"
    }
   ],
   "source": [
    "set(range(dm.post_train_df.item.max() + 1)) - set(dm.post_train_df.item.unique())"
   ]
  },
  {
   "cell_type": "code",
   "execution_count": 15,
   "metadata": {},
   "outputs": [
    {
     "data": {
      "text/html": [
       "<div>\n",
       "<style scoped>\n",
       "    .dataframe tbody tr th:only-of-type {\n",
       "        vertical-align: middle;\n",
       "    }\n",
       "\n",
       "    .dataframe tbody tr th {\n",
       "        vertical-align: top;\n",
       "    }\n",
       "\n",
       "    .dataframe thead th {\n",
       "        text-align: right;\n",
       "    }\n",
       "</style>\n",
       "<table border=\"1\" class=\"dataframe\">\n",
       "  <thead>\n",
       "    <tr style=\"text-align: right;\">\n",
       "      <th></th>\n",
       "      <th>user</th>\n",
       "      <th>pos_item</th>\n",
       "      <th>neg_sample</th>\n",
       "    </tr>\n",
       "  </thead>\n",
       "  <tbody>\n",
       "    <tr>\n",
       "      <th>0</th>\n",
       "      <td>0</td>\n",
       "      <td>1</td>\n",
       "      <td>[2670, 8388, 5861, 5089, 3480, 8811, 7193, 860...</td>\n",
       "    </tr>\n",
       "    <tr>\n",
       "      <th>1</th>\n",
       "      <td>1</td>\n",
       "      <td>25</td>\n",
       "      <td>[4356, 4583, 8106, 4673, 4485, 3465, 1339, 362...</td>\n",
       "    </tr>\n",
       "    <tr>\n",
       "      <th>2</th>\n",
       "      <td>2</td>\n",
       "      <td>44</td>\n",
       "      <td>[6903, 7880, 2175, 2316, 2550, 9796, 3948, 135...</td>\n",
       "    </tr>\n",
       "    <tr>\n",
       "      <th>3</th>\n",
       "      <td>3</td>\n",
       "      <td>66</td>\n",
       "      <td>[3864, 662, 4327, 7404, 7764, 8957, 1617, 7475...</td>\n",
       "    </tr>\n",
       "    <tr>\n",
       "      <th>4</th>\n",
       "      <td>4</td>\n",
       "      <td>94</td>\n",
       "      <td>[6471, 5578, 2198, 2286, 7429, 4957, 3566, 762...</td>\n",
       "    </tr>\n",
       "    <tr>\n",
       "      <th>...</th>\n",
       "      <td>...</td>\n",
       "      <td>...</td>\n",
       "      <td>...</td>\n",
       "    </tr>\n",
       "    <tr>\n",
       "      <th>55182</th>\n",
       "      <td>55182</td>\n",
       "      <td>2387</td>\n",
       "      <td>[1567, 3306, 7272, 523, 6010, 8054, 248, 6602,...</td>\n",
       "    </tr>\n",
       "    <tr>\n",
       "      <th>55183</th>\n",
       "      <td>55183</td>\n",
       "      <td>1321</td>\n",
       "      <td>[426, 4211, 3887, 7712, 4719, 1574, 2669, 1328...</td>\n",
       "    </tr>\n",
       "    <tr>\n",
       "      <th>55184</th>\n",
       "      <td>55184</td>\n",
       "      <td>770</td>\n",
       "      <td>[7, 4225, 4711, 1415, 1330, 2047, 9524, 7968, ...</td>\n",
       "    </tr>\n",
       "    <tr>\n",
       "      <th>55185</th>\n",
       "      <td>55185</td>\n",
       "      <td>1471</td>\n",
       "      <td>[1705, 2292, 4918, 626, 1735, 1471, 9317, 9649...</td>\n",
       "    </tr>\n",
       "    <tr>\n",
       "      <th>55186</th>\n",
       "      <td>55186</td>\n",
       "      <td>4009</td>\n",
       "      <td>[9659, 2216, 9056, 6422, 2459, 1951, 4744, 557...</td>\n",
       "    </tr>\n",
       "  </tbody>\n",
       "</table>\n",
       "<p>55187 rows × 3 columns</p>\n",
       "</div>"
      ],
      "text/plain": [
       "        user  pos_item                                         neg_sample\n",
       "0          0         1  [2670, 8388, 5861, 5089, 3480, 8811, 7193, 860...\n",
       "1          1        25  [4356, 4583, 8106, 4673, 4485, 3465, 1339, 362...\n",
       "2          2        44  [6903, 7880, 2175, 2316, 2550, 9796, 3948, 135...\n",
       "3          3        66  [3864, 662, 4327, 7404, 7764, 8957, 1617, 7475...\n",
       "4          4        94  [6471, 5578, 2198, 2286, 7429, 4957, 3566, 762...\n",
       "...      ...       ...                                                ...\n",
       "55182  55182      2387  [1567, 3306, 7272, 523, 6010, 8054, 248, 6602,...\n",
       "55183  55183      1321  [426, 4211, 3887, 7712, 4719, 1574, 2669, 1328...\n",
       "55184  55184       770  [7, 4225, 4711, 1415, 1330, 2047, 9524, 7968, ...\n",
       "55185  55185      1471  [1705, 2292, 4918, 626, 1735, 1471, 9317, 9649...\n",
       "55186  55186      4009  [9659, 2216, 9056, 6422, 2459, 1951, 4744, 557...\n",
       "\n",
       "[55187 rows x 3 columns]"
      ]
     },
     "execution_count": 15,
     "metadata": {},
     "output_type": "execute_result"
    }
   ],
   "source": [
    "dm.test_df"
   ]
  }
 ],
 "metadata": {
  "kernelspec": {
   "display_name": "fedrec",
   "language": "python",
   "name": "python3"
  },
  "language_info": {
   "codemirror_mode": {
    "name": "ipython",
    "version": 3
   },
   "file_extension": ".py",
   "mimetype": "text/x-python",
   "name": "python",
   "nbconvert_exporter": "python",
   "pygments_lexer": "ipython3",
   "version": "3.8.13"
  },
  "orig_nbformat": 4
 },
 "nbformat": 4,
 "nbformat_minor": 2
}
